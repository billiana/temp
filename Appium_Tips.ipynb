{
 "cells": [
  {
   "cell_type": "markdown",
   "metadata": {},
   "source": [
    "# Qxf2 examples\n",
    " \n",
    "### 10 lectures on Mobile Testing\n",
    "   \n",
    "1. [Chess on Emulator](https://qxf2.com/blog/appium-mobile-automation/)\n",
    "\n",
    "2. [ATP on Phone](https://qxf2.com/blog/appium-tutorial-python-physical-device/)\n",
    "\n",
    "3. [Identify Mobile Elements](https://qxf2.com/blog/identify-ui-elements-mobile-apps/)\n",
    "\n",
    "4. [Mobile Gestures](https://qxf2.com/blog/automating-pinch-zoom-swipe-appium/)\n",
    "\n",
    "5. [Test on Multiple Mobile Devices - Big Basket](https://qxf2.com/blog/running-mobile-automation-on-multiple-devices/)\n",
    "\n",
    "6. [Scroll Result Table](https://qxf2.com/blog/python-appium-scroll-through-search-result-table/)\n",
    "\n",
    "7. [Virtual Keyboard](https://qxf2.com/blog/android-appium-press-enter-soft-keyboard/)\n",
    "\n",
    "8. [What is NAF](https://qxf2.com/blog/naf-issue-mobile-testing/)\n",
    "\n",
    "9. [AppWait](https://qxf2.com/blog/appwaitactivity-new-session-could-not-be-created/)\n",
    "\n",
    "10. [Android Unit Testing: Android Testing Framework, Robolectric](https://qxf2.com/blog/android-unit-testing-robolectric-tutorial/)\n",
    "\n",
    "----\n",
    "\n",
    "### Mobile Automation\n",
    "\n",
    "- [Chess on SauceLabs](https://qxf2.com/blog/mobile-automation-appium-sauce-labs/)\n",
    "\n",
    "- [Parametrize](https://qxf2.com/blog/tag/parametrize/)\n",
    "\n",
    "- [Selendroid Python](https://qxf2.com/blog/selendroid-mobile-automation/)\n",
    "\n",
    "\n",
    "----\n",
    "### Automation Framework\n",
    "\n",
    "[Qxf2 GUI  Automation Framework](https://qxf2.com/blog/qxf2-open-sourced-gui-automation-framework/)\n",
    "\n",
    "----\n",
    "\n",
    "### Selenium\n",
    "\n",
    "\n",
    "- [Getting Started with XPath Selenium](https://qxf2.com/blog/getting-started-with-xpaths/)\n",
    "\n",
    "- [XPath Tutorial](https://qxf2.com/blog/xpath-tutorial/)\n",
    "\n",
    "- [Firebug](https://qxf2.com/blog/firebug-2-0-to-find-xpaths/)\n",
    "\n",
    "\n",
    "- [Selenium on SauceLabs - part1](https://qxf2.com/blog/sauce-labs-part/)\n",
    "- [Selenium on SauceLabs - part2](https://qxf2.com/blog/running-selenium-automation-using-sauce-labs-part-2/)\n",
    "\n",
    "- [Selenium on SauceLabs - part3](https://qxf2.com/blog/running-selenium-automation-using-sauce-labs-part-3/)\n",
    "\n",
    "[An example Appium + Python script with different locator strategies](https://qxf2.com/blog/identify-ui-elements-mobile-apps/)\n",
    "\n",
    "----\n",
    "\n",
    "[MondoDB and Python](https://qxf2.com/blog/getting-started-with-mongodb-and-python/)\n",
    "\n",
    "\n",
    "[OptParse](https://pymotw.com/2/optparse/)\n",
    "\n",
    "\n",
    "----\n",
    "\n",
    "\n",
    "POM\n",
    "\n",
    "[POM model](https://qxf2.com/blog/page-object-model-selenium-python/)\n",
    "\n",
    "[Batman & POM](https://qxf2.com/blog/page-object-tutorial/)\n",
    "\n",
    "[Practice Apps](https://qxf2.com/blog/find-applications-practice-software-testing/)\n",
    "\n",
    "\n",
    "----\n",
    "\n",
    "[Jenkins](https://qxf2.com/blog/get-started-with-jenkins/)\n",
    "\n",
    "[Jenkins & Python](https://qxf2.com/blog/jenkins-python/)\n",
    "\n",
    "\n",
    "[Python Unit Test](https://qxf2.com/blog/python-unit-checks/)\n",
    "\n",
    "[All Unit Testing Articles](https://qxf2.com/blog/category/unit-testing/)\n",
    "\n"
   ]
  },
  {
   "cell_type": "markdown",
   "metadata": {},
   "source": [
    "# How Appium Works\n",
    "\n",
    "- http://toolsqa.com/mobile-automation/appium/appium-a-cross-platform-mobile-automation-tool/\n",
    "\n"
   ]
  },
  {
   "cell_type": "markdown",
   "metadata": {},
   "source": [
    "# Appium with Eclipse on Windows\n",
    "\n",
    "###### Appium Tutorial: Set up Appium with Eclipse on Windows\n",
    "\n",
    "- http://toolsqa.com/mobile-automation/appium/appium-tutorial/\n",
    "\n"
   ]
  },
  {
   "cell_type": "markdown",
   "metadata": {},
   "source": [
    "# Setup UI  Automator with Eclipse\n",
    "\n",
    "- https://looksok.wordpress.com/2014/02/08/uiautomator-in-eclipse/\n",
    "\n",
    "\n",
    "\n",
    "# Locate Element in UI Automator Viewer\n",
    "\n",
    "- http://toolsqa.com/mobile-automation/appium/appium-a-cross-platform-mobile-automation-tool/\n",
    "\n",
    "- http://toolsqa.com/mobile-automation/appium/locate-element-using-uiautomatorviewer/\n",
    "\n",
    "\n",
    "\n",
    "# Running UI Automator\n",
    "\n",
    "- https://stackoverflow.com/questions/25201743/error-in-using-uiautomatorviewer-for-testing-android-app-in-appium/28526871#28526871/8\n",
    "\n",
    "\n",
    "- https://github.com/appium/appium-uiautomator2-server\n",
    "\n"
   ]
  },
  {
   "cell_type": "markdown",
   "metadata": {
    "collapsed": true
   },
   "source": [
    "# Appium Inspector\n",
    "\n",
    "- https://medium.com/@eliasnogueira/inspect-an-app-with-the-new-appium-desktop-8ce4dc9aa95c\n",
    "\n",
    "\n",
    "\n",
    "- While the inspector works well for iOS, there are some problem areas with it in Android on Appium at the moment. To that end, the Appium team encourages the use of uiautomatorviewer (which is an inspector tool provided by Google that provides similar functionality to the Appium inspector tool). For more info on how to set that up, read this.\n",
    "\n",
    "    https://saucelabs.com/resources/articles/appium-bootcamp-chapter-1\n",
    "\n",
    "\n"
   ]
  },
  {
   "cell_type": "markdown",
   "metadata": {},
   "source": [
    "# Desired Capabilities\n",
    "\n",
    "\n",
    "###### Device Name\n",
    "- Connect your android device with PC and get device name by running adb devices command in command prompt.\n",
    "\n",
    "###### Software App Package Name\n",
    "- Find your app package name from setting ->app details section.\n",
    "\n",
    "###### Activity Name\n",
    "- Find your app package name from setting ->app details section .\n",
    "\n",
    "###### Find Android OS Version\n",
    "- In your android device, Open settings -> About phone -> Android version.\n",
    "\n",
    "[Reference](https://huddle.eurostarsoftwaretesting.com/how-to-appium-setting-desired-capabilities-in-appium/)\n",
    "\n",
    "\n",
    "----\n",
    "\n",
    "\n",
    " \n",
    "\n",
    "    desired_caps = {}\n",
    "    desired_caps['platformName'] = 'Android'\n",
    "    desired_caps['platformVersion'] = '5.1'\n",
    "    desired_caps['deviceName'] = 'Android GoogleAPI Emulator'\n",
    "    desired_caps['appiumVersion'] = '1.6.5'\n",
    "    desired_caps['deviceOrientation'] = 'portrait'\n",
    "    desired_caps['browserName'] = ''        \n",
    "    desired_caps['app'] = 'C:\\\\Users\\\\bilsto1\\\\python\\\\apps\\\\uk.co.aifactory.chessfree.apk'\n",
    "    desired_caps['appPackage'] = 'uk.co.aifactory.chessfree'\n",
    "    desired_caps['appActivity'] = 'uk.co.aifactory.chessfree.ChessFreeActivity'\n",
    "    \n",
    "    \n",
    "- [package-name/activity-name: Android defines activities for specific actions supported by the application. The activity name can be supplied relative to the application package-name by prefixing a '.' to the activity name, or full activity name with its own package-name](https://community.perfectomobile.com/posts/995065-identifying-the-application-to-work-with)\n",
    "      \n",
    "      \n",
    "###### Path to Application\n",
    "    desired_caps['app'] = os.path.abspath('../../../apps/TestApp5.apk')\n",
    "\n",
    "###### Connect to Appium Server\n",
    "    driver = webdriver.Remote('http://localhost:4723/wd/hub', desired_caps)\n"
   ]
  },
  {
   "cell_type": "markdown",
   "metadata": {
    "collapsed": true
   },
   "source": [
    "### Special capabilities\n",
    "\n",
    "[AUTOMATION_NAME uiautomator2](https://github.com/appium/appium/issues/8100)\n",
    "\n",
    "[adb shell getprop - to Get Device Properties](https://stackoverflow.com/questions/15303915/how-to-get-os-version-and-device-name-of-an-android-device-connected-via-usb-wit/3)\n",
    "\n",
    "[newCommandTimeout desired capability 600]() - Appium Log shows *[Appium] Closing session, cause was 'New Command Timeout of 60 seconds expired. Try customizing the timeout using the 'newCommandTimeout' desired capability'*\n",
    "\n",
    "[newCommandTimeout capability integer](https://github.com/appium/appium/issues/6214)\n",
    "\n",
    "    MobileCapabilityType.NEW_COMMAND_TIMEOUT, \"3600\"\n",
    "    MobileCapabilityType.LAUNCH_TIMEOUT, \"1200000\"\n",
    "    MobileCapabilityType.TAKES_SCREENSHOT, \"true\" \n",
    "\n",
    "\n",
    "Appium Log shows *[BaseDriver] The following capabilities were provided, but are not recognized by appium: appiumVersion, deviceOrientation.*"
   ]
  },
  {
   "cell_type": "markdown",
   "metadata": {
    "collapsed": true
   },
   "source": [
    "# Appium locator by class name\n",
    "\n"
   ]
  },
  {
   "cell_type": "markdown",
   "metadata": {
    "collapsed": true
   },
   "source": [
    "# Appium locator by xpath\n",
    "\n",
    "\n",
    "- //android.widget.ImageView[contains(@resource-id,’action_bar’) and contains(@content-desc,’Navigation panel’)]\n",
    "\n",
    "\n",
    "\n",
    "https://discuss.appium.io/t/issue-using-xpath-with-appium-for-native-android-apps/5664/8\n",
    "\n",
    "\n",
    "\n",
    "##### Appium XPath Macaca Inspector\n",
    "\n",
    "http://toolsqa.com/mobile-automation/appium/extract-xpath-from-app-using-macaca-inspector/\n",
    "\n",
    "\n"
   ]
  },
  {
   "cell_type": "markdown",
   "metadata": {},
   "source": [
    "# Appium Python\n",
    "\n",
    "###### Library\n",
    "\n",
    "- https://github.com/appium/python-client\n",
    "\n",
    "###### Examples\n",
    "\n",
    "- https://github.com/appium/sample-code/tree/master/sample-code/examples/python\n",
    "\n",
    "\n",
    "###### Appium Library Installation for Python\n",
    "\n",
    "    pip install Appium-Python-Client\n",
    "    from appium import webdriver\n",
    "\n"
   ]
  },
  {
   "cell_type": "markdown",
   "metadata": {},
   "source": [
    "# Appium - is application installed\n",
    "    \n",
    "- driver.is_app_installed(package_name)\n",
    "        \n",
    "        driver.is_app_installed('com.google.android.youtube')\n",
    "\n",
    "[package-name: a unique identification string for the application, used by the OS to identify the application. \n",
    "For example, the package name for the maps application developed by Google for Android may be \"com.google.android.apps.maps\"](https://community.perfectomobile.com/posts/995065-identifying-the-application-to-work-with)"
   ]
  },
  {
   "cell_type": "markdown",
   "metadata": {},
   "source": [
    "# Appium - wait for application or activity to load\n",
    "\n",
    "https://stackoverflow.com/questions/28799420/how-to-wait-to-activity-using-appium-on-begin-and-during-test-itself\n",
    "\n",
    "https://discuss.appium.io/t/do-we-have-wait-for-activity-to-be-loaded/11925/5\n",
    "\n"
   ]
  },
  {
   "cell_type": "markdown",
   "metadata": {},
   "source": [
    "# Appium Multiple Activities vs Switching Views vs Fragments\n",
    "\n",
    "- Retrieving the current running activity, returns the name of the current activity running on the device\n",
    "\n",
    "        activity = driver.current_activity\n",
    "        package = driver.current_package\n",
    "\n",
    "[android app design: Activity, Fragment, View](https://stackoverflow.com/questions/2072244/android-what-is-better-multiple-activities-or-switching-views-manually)\n",
    "\n",
    "[sample code](https://github.com/appium/python-client/blob/master/test/functional/android/appium_tests.py)"
   ]
  },
  {
   "cell_type": "markdown",
   "metadata": {},
   "source": [
    "# Appium Launch and Close App\n",
    "\n",
    "    driver.close_app() \n",
    "    driver.launch_app() \n",
    "\n"
   ]
  },
  {
   "cell_type": "code",
   "execution_count": null,
   "metadata": {
    "collapsed": true
   },
   "outputs": [],
   "source": []
  }
 ],
 "metadata": {
  "kernelspec": {
   "display_name": "Python 2",
   "language": "python",
   "name": "python2"
  },
  "language_info": {
   "codemirror_mode": {
    "name": "ipython",
    "version": 2
   },
   "file_extension": ".py",
   "mimetype": "text/x-python",
   "name": "python",
   "nbconvert_exporter": "python",
   "pygments_lexer": "ipython2",
   "version": "2.7.13"
  }
 },
 "nbformat": 4,
 "nbformat_minor": 2
}
