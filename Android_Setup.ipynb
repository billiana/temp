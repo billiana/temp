{
 "cells": [
  {
   "cell_type": "markdown",
   "metadata": {},
   "source": [
    "# ABI\n",
    "\n",
    "##### Choose Emulator ABI based on Application under test\n",
    "[ABI Management](https://developer.android.com/ndk/guides/abis.html)\n",
    "\n",
    "\n",
    "##### Read ABI from APK\n",
    "[Android Studio > Build > Analyze APK... > view lib folder, supported ABIs will have subfolder](https://stackoverflow.com/questions/37452646/read-application-mk-information-from-an-apk)\n"
   ]
  },
  {
   "cell_type": "markdown",
   "metadata": {},
   "source": [
    "# Emulator gone offline\n",
    "\n",
    "- Sometimes/most of the times the solutions described above works. But if it does not, and you had \"Launch from snapshot\" enabled, killing the emulator and restarting it WITH LAUNCH FROM SNAPHOT DISABLED, will let you of the hook. I had this problem many, many times in the last few weeks, and although adb kill-server followed by adb devices works 4 times out of 5, that fifth time the only way to get it working again is by disabling the 'launch from snapshot' option. My guess is that the emulator is somehow in a 'wrong' state, but do not understand why myself.\n",
    "\n",
    "\n",
    "https://stackoverflow.com/questions/18006118/android-emulator-offline-to-online-mode\n",
    "\n",
    "\n",
    "\n",
    "# Emulator Setup, read following to conclude:\n",
    "\n",
    "\n",
    "- https://stackoverflow.com/questions/13272924/cpu-hungry-android-emulator-android-arm-eabi-image-vs-x86-image\n",
    "- http://imgur.com/cWqmDgH\n",
    "- https://stackoverflow.com/questions/39199193/unable-to-turn-on-snapshot-in-android-studio-avd-manager-save-it?rq=1\n",
    "\n",
    "\n"
   ]
  },
  {
   "cell_type": "markdown",
   "metadata": {},
   "source": [
    "# System Environment Variables\n",
    "\n",
    "### PATH\n",
    "\n",
    "C:\\Program Files (x86)\\Intel\\iCLS Client\\;C:\\Program Files\\Intel\\iCLS Client\\;%SystemRoot%\\system32;%SystemRoot%;%SystemRoot%\\System32\\Wbem;%SYSTEMROOT%\\System32\\WindowsPowerShell\\v1.0\\;C:\\Program Files (x86)\\Lenovo\\Access Connections\\;C:\\Program Files\\Lenovo\\Touch Fingerprint Software\\;C:\\Program Files (x86)\\Intel\\Intel(R) Management Engine Components\\DAL;C:\\Program Files\\Intel\\Intel(R) Management Engine Components\\DAL;C:\\Program Files (x86)\\Intel\\Intel(R) Management Engine Components\\IPT;C:\\Program Files\\Intel\\Intel(R) Management Engine Components\\IPT;C:\\Program Files\\Intel\\WiFi\\bin\\;C:\\Program Files\\Common Files\\Intel\\WirelessCommon\\;C:\\Program Files\\nodejs\\;C:\\Program Files\\Java\\jdk1.8.0_131\\bin;C:\\apache-maven-3.5.0\\bin;C:\\Program Files\\TortoiseSVN\\bin\n",
    "\n",
    "\n",
    "- C:\\Program Files\\nodejs\\;\n",
    "- C:\\Program Files\\Java\\jdk1.8.0_131\\bin;\n",
    "- C:\\apache-maven-3.5.0\\bin;\n",
    "- C:\\Program Files\\TortoiseSVN\\bin\n",
    "\n",
    "###### Following added but no benefit, UIAutomatorViewer.bat still need to be modified\n",
    "- %ANDROID_HOME%\\platform-tools;\n",
    "- %ANDROID_HOME%\\tools;\n",
    "\n",
    "\n",
    "\n",
    "### JAVA_HOME\n",
    "\n",
    "- C:\\Program Files\\Java\\jdk1.8.0_131\n",
    "\n",
    "\n",
    "### JDK_HOME\n",
    "\n",
    "- %JAVA_HOME%\n",
    "\n",
    "----\n"
   ]
  },
  {
   "cell_type": "markdown",
   "metadata": {},
   "source": [
    "# User Environment Variables\n",
    "\n",
    "### PATH\n",
    "\n",
    "C:\\Users\\bilsto1\\AppData\\Roaming\\npm;C:\\WebDriver\n",
    "\n",
    "\n",
    "### ANDROID_HOME\n",
    "- C:\\Users\\bilsto1\\AppData\\Local\\Android\\sdk\n",
    "\n",
    "### JAVA_HOME\n",
    "- C:\\Program Files\\Java\\jdk1.8.0_131\n",
    "\n",
    "### M2_HOME\n",
    "- C:\\apache-maven-3.5.0\n",
    "\n",
    "### MAVEN_HOME\n",
    "- C:\\apache-maven-3.5.0\n"
   ]
  },
  {
   "cell_type": "markdown",
   "metadata": {},
   "source": [
    "----\n",
    "# Android installation\n",
    "\n",
    "- My Android Studio installed in Program Files, SDK installed in AppData\\Local\n",
    "\n",
    "### Read Android Manifest to start Appium Test Automation\n",
    "\n",
    "To write the test, you need two pieces of information specific to your application:\n",
    "- a) Java package of the Android app you want to run\n",
    "- b) Activity name for the Android activity you want to launch from your package\n",
    "\n",
    "[Reference](https://qxf2.com/blog/appium-mobile-automation/)\n",
    "\n",
    "###### console - Android Asset Packaging Tool (aapt)\n",
    "- open command prompt from ANDROID_HOME\\sdk\\build_tools\\25.0.3\n",
    "- C:\\Users\\bilsto1\\AppData\\Local\\Android\\sdk\\build-tools\\25.0.3> and enter command\n",
    "- \\> aapt dump badging *apk_filename_with_path*\n",
    "- \\> **aapt dump badging C:\\Users\\bilsto1\\apps\\uk.co.aifactory.chessfree.apk >> output.txt**\n",
    "- Locate **package: name=** 'uk.co.aifactory.chessfree'\n",
    "- Locate **launchable-activity: name=** 'uk.co.aifactory.chessfree.ChessFreeActivity'\n",
    "\n",
    "\n",
    "###### Android Studio\n",
    "\n",
    "- Build > Analyze APK\n",
    "- Locate\n",
    "\n",
    "- a) **package=** \"uk.co.aifactory.chessfree\"\n",
    "- b) **android:name=** \"uk.co.aifactory.chessfree.ChessFreeActivity\"\n",
    "- c) **android:launchMode=** \"1\"\n",
    "\n",
    "\n",
    "sidenote: how to copy command response into clip or file:\n",
    "- \\> command > output.txt (clear file)\n",
    "- \\> command >> output.txt (append)\n",
    "- \\> command | clip (copy response to clipboard)\n",
    "- \\> clip < text.txt (read file content into a clipboard)\n",
    "- Mark response + ENTER will place content into a clipoard\n",
    "\n"
   ]
  },
  {
   "cell_type": "markdown",
   "metadata": {},
   "source": [
    "----\n",
    "# Debugging Android APK\n",
    "\n",
    "\n",
    "[![INSTALL_FAILED_CONTAINER_ERROR](/tree/Cookbook/Images/Emulator_Error.png)](/tree/Cookbook/Tutorials/Conda.ipynb)\n",
    "\n",
    "Tips:\n",
    "\n",
    "- Environment: Android\n",
    "- Topic:INSTALL_FAILED_CONTAINER_ERROR\n",
    "- Tools: Start ADB Shell\n",
    "\n",
    "###### Solution\n",
    "1. Open Command prompt, go to:\n",
    "\n",
    "    - ANDROID_HOME\\sdk\\platform-tools, or\n",
    "    - C:\\Users\\bilsto1\\AppData\\Local\\Android\\sdk\\platform-tools\n",
    "\n",
    "2. Enter ***adb shell***\n",
    "3. Enter ***adb logcat > logcat.txt***\n",
    "\n",
    "###### Links\n",
    "- [Failure INSTALL_FAILED_CONTAINER_ERROR](https://stackoverflow.com/questions/12480302/failure-install-failed-container-error-when-trying-to-install-android-apk-pack)\n",
    "- [Use adb tools](https://www.howtogeek.com/125769/how-to-install-and-use-abd-the-android-debug-bridge-utility/)\n",
    "- [Stackoverflow tips](https://stackoverflow.com/questions/8264645/how-to-save-logcat-contents-to-file)\n",
    "\n"
   ]
  },
  {
   "cell_type": "markdown",
   "metadata": {},
   "source": [
    "----\n",
    "\n",
    "### Android Testing Tips:\n",
    "https://android.stackexchange.com/questions/43517/installing-to-sdcard-by-default\n",
    "\n",
    "###### Android Thoubleshooting:\n",
    "https://www.howtogeek.com/125769/how-to-install-and-use-abd-the-android-debug-bridge-utility/\n",
    "\n",
    "        "
   ]
  },
  {
   "cell_type": "markdown",
   "metadata": {
    "collapsed": true
   },
   "source": [
    "----\n",
    "\n",
    "# Debugging UIAUtomatorViewer.bat\n",
    "\n",
    "- Problem: UIAutomator reports Unable to connect to adb\n",
    "\n",
    "- Root cause: com.android.uiautomator.bindir property is not set \n",
    "\n",
    "- Solution: Edit .bat file to modify bindir path\n",
    "\n",
    "###### \"%java_exe%\" \"-Djava.ext.dirs=%javaextdirs%\" \"-Dcom.android.uiautomator.bindir=C:\\Users\\bilsto1\\AppData\\Local\\Android\\sdk\\platform-tools\" -jar %jarpath% %*\n",
    "\n",
    "\n",
    "\n",
    "https://stackoverflow.com/questions/13563184/adb-not-installed-error-when-trying-to-take-a-snapshot-with-uiautomatorviewer\n",
    "\n",
    "https://stackoverflow.com/questions/27734121/unable-to-connect-to-adb-check-if-adb-is-installed-correctly\n"
   ]
  },
  {
   "cell_type": "markdown",
   "metadata": {
    "collapsed": true
   },
   "source": [
    "----\n",
    "# UI Automator Viewer\n",
    "\n",
    "\n",
    "###### Opening screen on Chess is dynamic, screenshot gives error\n",
    "This error comes launched only when in the interface there is a dynamic element that is in motion.\n",
    "- Error while obtaining UI hierarchy XML file: **com.android.ddmlib.SyncException: Remote object doesn't exist!**\n",
    "- Comment: it's a limitation of the AccessibilityService itself. I am guessing that an app changing its UI more frequently than once per second is not considered accessible\n",
    "\n",
    "[Error discussed in stackoverflow](https://stackoverflow.com/questions/40214342/error-obtaining-ui-hierarchy-error-while-obtaining-ui-hierarchy-xml-file-com-an)\n",
    "\n",
    "----\n",
    "\n",
    "###### It happened once so far, UI AutomatorViewer screenshot gives error\n",
    "\n",
    "- Error while obtaining UI hierarchy XML file: **com.android.ddmlib.ShellCommandUnresponsiveException**\n",
    "\n",
    "[Github discussion](https://github.com/bitrise-steplib/steps-start-android-emulator/issues/25)\n",
    "\n",
    "\n",
    "\n"
   ]
  },
  {
   "cell_type": "markdown",
   "metadata": {},
   "source": [
    "# Error running Python Appium test on Emulator\n",
    "\n",
    "- Test Environment: Run Python Applium Webdriver test application: **Connect to WebDriver**\n",
    "- Issue: **WebDriverException: Message: An unknown server-side error occurred while processing the command. Original error: Error getting device platform version. Original error: Error executing adbExec. Original error: 'Command 'C\\:\\\\Users\\\\bilsto1\\\\AppData\\\\Local\\\\Android\\\\sdk\\\\platform-tools\\\\adb.exe -P 5037 -s emulator-5554 shell getprop ro.build.version.release' timed out after 20000ms'; Stderr: ''; Code: 'null'**\n",
    "\n",
    "- Observation: Windows Task Manager shows 4 adb.exe processes\n",
    "- Workaround: Go to cmd at **sdk\\platform-tools**, and enter command **TASKKILL /F /IM ADB.exe /T**\n",
    "- Side-note: likely caused by operator (me) running the connecting to webdriver section once again, without closing the driver first.\n",
    "\n",
    "[Reference](https://stackoverflow.com/questions/21954599/adb-exe-hang-on-windows-7)\n",
    "\n",
    "[Similar issue, possibly different rootcause](https://github.com/appium/appium/issues/8100)\n",
    "\n"
   ]
  },
  {
   "cell_type": "markdown",
   "metadata": {},
   "source": [
    "----\n",
    "# Emulator setup\n",
    "\n",
    "- Pixel_XL_API_22: 5.5\", Res 1440x2560, Density 560 dpi; Lollipop, ABI: armeabi-v7a, Android 5.1 with Google API\n",
    "\n"
   ]
  },
  {
   "cell_type": "markdown",
   "metadata": {
    "collapsed": true
   },
   "source": [
    "----\n",
    "\n",
    "# Slow Emulator \n",
    "\n",
    "- https://stackoverflow.com/questions/1554099/why-is-the-android-emulator-so-slow-how-can-we-speed-up-the-android-emulator\n",
    "\n",
    "\n",
    "- [Best System for Fast Android Development](https://www.quora.com/What-is-the-best-PC-to-buy-in-order-that-I-can-use-Android-Studio-to-make-apps)\n",
    "\n",
    "\n",
    "### Improve speed, use different image\n",
    "\n",
    "- https://stackoverflow.com/questions/13272924/cpu-hungry-android-emulator-android-arm-eabi-image-vs-x86-image\n"
   ]
  },
  {
   "cell_type": "markdown",
   "metadata": {},
   "source": []
  },
  {
   "cell_type": "markdown",
   "metadata": {},
   "source": []
  },
  {
   "cell_type": "markdown",
   "metadata": {},
   "source": [
    "# Android API Levels\n",
    "\n",
    "\n",
    "###  MINIMUM VERSION (android:minSdkVersion)\n",
    "An integer designating the minimum API Level required for the application to run. The Android system will prevent the user from installing the application if the system's API Level is lower than the value specified in this attribute. You should always declare this attribute. \n",
    "\n",
    "\n",
    "###  TARGET VERSION (android:targetSdkVersion)\n",
    "An integer designating the API Level that the application targets. If not set, the default value equals that given to minSdkVersion. \n",
    "- This attribute informs the system that you have tested against the target version and the system should not enable any compatibility behaviors to maintain your app's forward-compatibility with the target version. The application is still able to run on older versions (down to minSdkVersion).\n",
    "\n",
    "- If the API level of the platform is higher than the version declared by your app's Target version, the system may enable compatibility behaviors to ensure that your app continues to work the way you expect. There are many compatibility behaviors that the system may enable based on the value you set for this attribute. Several of these behaviors are described by the corresponding platform versions in the Build.VERSION_CODES reference.\n",
    "\n",
    "To maintain your application along with each Android release, you should increase the value of this attribute to match the latest API level, then thoroughly test your application on the corresponding platform version.\n",
    "\n",
    "\n",
    "###  MAXIMUM VERSION (android:maxSdkVersion)\n",
    "\n",
    "An integer designating the maximum API Level on which the application is designed to run.\n",
    "\n",
    "\n",
    "###### Warning: Declaring this attribute is not recommended.\n",
    "- There is no need to set the attribute as means of blocking deployment of your application onto new versions of the Android platform as they are released. By design, new versions of the platform are fully backward-compatible. Your application should work properly on new versions, provided it uses only standard APIs and follows development best practices.\n",
    "- Note that in some cases, declaring the attribute can **result in your application being removed from users' devices after a system update** to a higher API Level. Most devices on which your application is likely to be installed will receive periodic system updates over the air, so you should consider their effect on your application before setting this attribute.\n",
    "\n",
    "\n",
    "###### Upto API 4:\n",
    "\n",
    "The system checks the value of this attribute when installing an application and when re-validating the application after a system update. \n",
    "- If the application's maxSdkVersion attribute is lower than the API Level used by the system itself, then the system will not allow the application to be installed.\n",
    "- In the case of re-validation after system update, system can no longer re-validate the application becin case of the system's own API Level is higher than the maximum supported by the application, then the system prevents the application from being visible to the user, in effect removing it from the device.\n",
    "\n",
    "\n",
    "###### Above API 4:\n",
    "- Google Play will continue to use the attribute as a filter, however, when presenting users with applications available for download. \n"
   ]
  },
  {
   "cell_type": "markdown",
   "metadata": {
    "collapsed": true
   },
   "source": [
    "# Android Programming\n",
    "\n",
    "http://www.dummies.com/web-design-development/mobile-apps/starting-a-new-project-in-android-studio/\n",
    "\n"
   ]
  },
  {
   "cell_type": "markdown",
   "metadata": {
    "collapsed": true
   },
   "source": [
    "# Eclipse failed to get required ADT version from SDK\n",
    "\n",
    "https://stackoverflow.com/questions/42724450/failed-to-get-the-required-adt-version-number-from-the\n",
    "\n"
   ]
  },
  {
   "cell_type": "code",
   "execution_count": null,
   "metadata": {
    "collapsed": true
   },
   "outputs": [],
   "source": []
  }
 ],
 "metadata": {
  "kernelspec": {
   "display_name": "Python 2",
   "language": "python",
   "name": "python2"
  },
  "language_info": {
   "codemirror_mode": {
    "name": "ipython",
    "version": 2
   },
   "file_extension": ".py",
   "mimetype": "text/x-python",
   "name": "python",
   "nbconvert_exporter": "python",
   "pygments_lexer": "ipython2",
   "version": "2.7.13"
  }
 },
 "nbformat": 4,
 "nbformat_minor": 2
}
