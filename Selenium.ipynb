{
 "cells": [
  {
   "cell_type": "markdown",
   "metadata": {},
   "source": [
    "# Selenium Tutorial, WebDriver\n",
    "\n",
    "- http://www.seleniumeasy.com/selenium-tutorials\n",
    "- http://www.seleniumeasy.com/selenium-webdriver-tutorials\n",
    "\n",
    "\n",
    "# Selenium Python Bindings\n",
    "\n",
    "- http://selenium-python.readthedocs.io/locating-elements.html\n",
    "\n"
   ]
  },
  {
   "cell_type": "markdown",
   "metadata": {},
   "source": [
    "# Testing Framework used with Selenium\n",
    "\n",
    "\n",
    "Testing frameworks that can be used with Selenium:\n",
    "\n",
    "- Python - Frameworks: unittest, pyunit, py.test, robot framework\n",
    "- Ruby - Frameworks: RSpec, Test::Unit \n",
    "- Java - Frameworks: JUnit, TestNG\n",
    "- PHP - Frameworks: Behat + Mink, Yii\n",
    "- C# - Frameworks: NUnit Haskell\n",
    "\n",
    "- JavaScript\n",
    "- Objective-C\n",
    "- Perl\n",
    "- R\n",
    "\n",
    "\n",
    "\n"
   ]
  },
  {
   "cell_type": "markdown",
   "metadata": {},
   "source": [
    "# Selenium POM - Page Object Model\n",
    "\n",
    "[guru99 POM](https://www.guru99.com/page-object-model-pom-page-factory-in-selenium-ultimate-guide.html)\n",
    "\n",
    "\n",
    "[GURU99 Xpath](https://www.guru99.com/xpath-selenium.html)\n"
   ]
  },
  {
   "cell_type": "markdown",
   "metadata": {},
   "source": [
    "# Selenium JavaScript\n",
    "\n",
    "\n",
    "###### How engines work?\n",
    "\n",
    "\n",
    "Engines are complicated. But the basics are easy.\n",
    "\n",
    "1.The script is written and distributed as a plain text (can be compressed/optimized by so-called “javascript minifiers”).\n",
    "\n",
    "2.The engine (embedded if it’s a browser) reads the script (“parses”) and converts (“compiles”) it to the machine language.\n",
    "\n",
    "3.And then it runs, pretty fast.\n",
    "\n",
    "The engine applies optimizations on every stage of the process. It even watches the script as it runs, analyzes the data which flows through it and applies optimizations to the machine-code basing on that knowledge. That’s why the code runs fast.\n",
    "\n",
    "\n",
    "\n",
    "\n",
    "https://javascript.info/intro\n",
    "\n",
    "\n"
   ]
  },
  {
   "cell_type": "markdown",
   "metadata": {},
   "source": [
    "# Selenium with Python\n",
    "\n",
    "- [Python Django tips](/tree/Cookbook/Tutorials/Python_Django_Tips.ipynb)"
   ]
  },
  {
   "cell_type": "markdown",
   "metadata": {},
   "source": [
    "# Marionette is an automation driver for Mozilla's Gecko engine.\n",
    "\n",
    "https://stackoverflow.com/questions/42956380/difference-between-geckodriver-and-marionette\n",
    "\n",
    "\n",
    "Selenium uses W3C Webdriver protocol to send requests to Geckodriver, which translates them and uses Marionette protocol to send them to Firefox\n",
    "\n",
    "#### Selenium<--(W3C Webdriver)-->Geckodriver<---(Marionette)--->Firefox\n",
    "\n",
    "\n",
    "\n",
    "[original discussion](https://stackoverflow.com/questions/43272919/difference-between-webdriver-firefox-marionette-webdriver-gecko-driver/43920453#43920453)\n",
    "\n",
    "### Marionette\n",
    "\n",
    "Marionette is an automation driver for Mozilla's Gecko engine. It is basically the the remote protocol of Gecko/Firefox. It can remotely control either the UI or the internal JavaScript of a Gecko platform, such as Firefox. Marionette consists of two parts: A server which takes requests and executes them in Gecko, and a client. The client sends commands to the server and the server executes the command inside the browser. Marionette combines a gecko component (the Marionette server) with an outside component (the Marionette client), which drives the tests. The Marionette server ships with Firefox, and to use it you will need to download a Marionette client.\n",
    "\n",
    "### GeckoDriver\n",
    "\n",
    "With the release of Selenium 3 things changed. As Selenium 3 will not have any native implementation of Firefox, we have to direct all the driver commands through Gecko Driver. Gecko Driver is an executable file that you need to have in one of the system path before starting your tests. Firefox browser implements the WebDriver protocol using an executable called GeckoDriver.exe. This executable starts a server on your system. All your tests communicate to this server to run your tests. It translates calls into the Marionette automation protocol by acting as a proxy between the local and remote ends.\n",
    "\n",
    "\n",
    "----\n",
    "\n",
    "\n",
    "Up to version 45, the driver used to automate Firefox was an extension included with each client. But this extension was dropped, probably due to the change of policy which now requires all the extensions to be signed by Mozilla.\n",
    "\n",
    "Marionette is the new driver that is shipped/included with Firefox. This driver has it's own protocol which is not directly compatible with the Selenium/WebDriver protocol.\n",
    "\n",
    "The Gecko driver (previously named wires) is an application server implementing the Selenium/WebDriver protocol. It translates the Selenium commands and forwards them to the Marionette driver.\n",
    "\n",
    "For the Java client, the default behavior is to use the Gecko driver, but it can be overridden to use the legacy extension as a driver with the webdriver.firefox.marionette property or with the marionette capability:\n",
    "\n",
    "\n",
    "\n",
    "\n",
    " "
   ]
  },
  {
   "cell_type": "markdown",
   "metadata": {},
   "source": [
    "# Gecko Driver\n",
    "\n",
    "Mozilla runs on **Gecko browser engine**.\n",
    "\n",
    "Gecko browser engine is an open source browser engine which can be used by anyone in there application. It can help applications render web pages. Just like other browsers, Chrome, Internet explorer and Edge Mozilla foundation has decided to introduce **Marionette driver** to control Firefox browser.\n",
    "\n",
    "Moving forward, it is expected that to interact with Firefox Browser we will need to run an instance of Marionette driver. Marionette driver, some times loosely termed as Gecko driver, can drive both UI and Web Page in the Firefox browser. This gives an exceptional amount of control over the Web Page and the UI of the web browser to the tester.\n",
    "\n",
    "Selenium 3 has upgraded itself to now launch Firefox driver using Marionette driver instead of the default initialisation supported earlier.\n",
    "\n",
    "\n",
    "http://toolsqa.com/selenium-webdriver/how-to-use-geckodriver/\n",
    "\n",
    "\n",
    "###### This program provides the HTTP API described by the WebDriver protocol to communicate with Gecko browsers, such as Firefox. It translates calls into the Firefox remote protocol by acting as a proxy between the local- and remote ends.\n",
    "\n",
    "\n",
    "[geckodriver github](https://github.com/mozilla/geckodriver)\n",
    "\n",
    "\n",
    "\n"
   ]
  },
  {
   "cell_type": "markdown",
   "metadata": {},
   "source": [
    "# Marionette Driver\n",
    "\n",
    "\n",
    "Marionette is an automation driver for Mozilla's Gecko engine. It can remotely control either the UI or the internal JavaScript of a Gecko platform, such as Firefox. It can control both the chrome (i.e. menus and functions) or the content (the webpage loaded inside the browsing context), giving a high level of control and ability to replicate user actions. In addition to performing actions on the browser, Marionette can also read the properties and attributes of the DOM.\n",
    "\n",
    "\n",
    "\n",
    "https://developer.mozilla.org/en-US/docs/Mozilla/QA/Marionette\n",
    "    \n",
    "    "
   ]
  },
  {
   "cell_type": "code",
   "execution_count": null,
   "metadata": {
    "collapsed": true
   },
   "outputs": [],
   "source": [
    "from selenium import webdriver\n",
    "browser = webdriver.Firefox()\n",
    "browser.get('http://inventwithpython.com')\n",
    "#assert 'Django' in browser.title"
   ]
  },
  {
   "cell_type": "markdown",
   "metadata": {},
   "source": [
    "# Selenium and scripts in NodeJS\n",
    "\n",
    "\n",
    "Node JS - Documentation for writing automate test scripts in Node JS.\n",
    "\n",
    "\n",
    "https://www.browserstack.com/automate/node\n",
    "    \n",
    "    "
   ]
  },
  {
   "cell_type": "markdown",
   "metadata": {},
   "source": [
    "# Protractor JS and TypeScript Tutorial\n",
    "\n",
    "http://www.diwebsity.com/2016/11/17/protractorjs-typescript-tutorial/\n",
    "\n",
    "    \n",
    "    \n",
    "    "
   ]
  },
  {
   "cell_type": "markdown",
   "metadata": {},
   "source": [
    "# AngularJS HelloWorkld\n",
    "\n",
    "https://dzone.com/articles/angularjs-my-first-hello-world"
   ]
  },
  {
   "cell_type": "markdown",
   "metadata": {},
   "source": [
    "# Karma Framework\n",
    "\n",
    "https://stackoverflow.com/questions/32557644/testing-angularjs-application-with-selenium\n",
    "    \n",
    "    "
   ]
  },
  {
   "cell_type": "markdown",
   "metadata": {},
   "source": [
    "# Selenium AngularJS\n",
    "\n",
    "http://qavalidation.com/2015/04/selenium-testing-for-angular-js-sites.html/\n",
    "    \n",
    "    "
   ]
  },
  {
   "cell_type": "markdown",
   "metadata": {},
   "source": [
    "Clojure\n",
    "\n",
    "http://www.compoundtheory.com/writing-angularjs-with-clojurescript-and-purnam/\n",
    "\n"
   ]
  },
  {
   "cell_type": "markdown",
   "metadata": {},
   "source": [
    "IJavaScript\n",
    "\n",
    "https://github.com/n-riesco/ijavascript#installation\n",
    "    \n",
    "    "
   ]
  },
  {
   "cell_type": "markdown",
   "metadata": {
    "collapsed": true
   },
   "source": [
    "# Java Selenium\n",
    "\n",
    "1. http://scraping.pro/how-to-use-selenium-webdriver-with-java/\n",
    "\n",
    "2. http://www.software-testing-tutorials-automation.com/2014/01/learn-selenium-webdriver-online-free.html\n",
    "\n",
    "\n"
   ]
  },
  {
   "cell_type": "markdown",
   "metadata": {
    "collapsed": true
   },
   "source": [
    "# Protractor\n",
    "\n",
    "[Testing AngularJS apps](https://www.thoughtworks.com/insights/blog/testing-angularjs-apps-protractor)"
   ]
  },
  {
   "cell_type": "markdown",
   "metadata": {},
   "source": [
    "# Selenium Node JS\n",
    "\n",
    "https://team.goodeggs.com/getting-started-with-selenium-webdriver-for-node-js-f262a00c52e1\n",
    "\n"
   ]
  },
  {
   "cell_type": "code",
   "execution_count": null,
   "metadata": {
    "collapsed": true
   },
   "outputs": [],
   "source": []
  }
 ],
 "metadata": {
  "kernelspec": {
   "display_name": "Python3 Selenium",
   "language": "python",
   "name": "py3env"
  },
  "language_info": {
   "codemirror_mode": {
    "name": "ipython",
    "version": 3
   },
   "file_extension": ".py",
   "mimetype": "text/x-python",
   "name": "python",
   "nbconvert_exporter": "python",
   "pygments_lexer": "ipython3",
   "version": "3.6.1"
  }
 },
 "nbformat": 4,
 "nbformat_minor": 2
}
