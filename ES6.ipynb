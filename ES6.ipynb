{
 "cells": [
  {
   "cell_type": "markdown",
   "metadata": {},
   "source": [
    "# WebPack\n",
    "\n",
    "Practice:\n",
    "https://blog.revillweb.com/using-es2015-es6-modules-with-babel-6-3ffc0870095b\n",
    "\n",
    "\n",
    "\n",
    "Tutorial:\n",
    "http://blog.andrewray.me/webpack-when-to-use-and-why/\n",
    "\n",
    "\n",
    "\n"
   ]
  },
  {
   "cell_type": "markdown",
   "metadata": {},
   "source": [
    "# ES6 Guidelines & Tutorials\n",
    "\n",
    "Nelson from Udemy\n",
    "- https://github.com/djdjalas/es6-course\n",
    "\n",
    "javaScript Patterns for 2017\n",
    "- https://www.youtube.com/watch?v=hO7mzO83N1Q&t=294s\n",
    "\n",
    "ES6 CheatSheet\n",
    "- https://es6cheatsheet.com/\n",
    "- https://gist.github.com/vasco3/22b09ef0ca5e0f8c5996\n",
    "\n",
    "\n",
    "\n",
    "\n"
   ]
  },
  {
   "cell_type": "markdown",
   "metadata": {},
   "source": [
    "# Babel Installation\n",
    "\n",
    "\n",
    "Running a Babel 6.x project using npm version 2 can cause performance problems because of the way npm installs dependencies. This problem can be eliminated by either switching to npm version 3.\n",
    "\n",
    "\n",
    "    > npm install --save-dev babel-cli babel-preset-env\n",
    "\n",
    "- https://babeljs.io/\n",
    "- https://stackoverflow.com/a/34747852\n",
    "\n",
    "\n",
    "- Babel has support for the latest version of JavaScript through syntax transformers. These plugins allow you to use new syntax, right now without waiting for browser support. Check out our env preset to get started.\n",
    "\n",
    "\n",
    "\n",
    "###### 1. install babel-cli\n",
    "\n",
    "    > npm install babel-cli\n",
    "- [Note: Since it's generally a bad idea to run Babel globally you may want to uninstall the global copy by running:](https://babeljs.io/docs/setup/#installation)\n",
    "\n",
    "      > npm uninstall --global babel-cli\n",
    "\n",
    "\n",
    "\n",
    "###### 1a. Configuring Babel (I have not done this prior to using Babel)\n",
    "\n",
    "https://babeljs.io/docs/setup/#installation\n",
    "\n",
    "- Instead of running Babel directly from the command line we’re going to put our commands in npm scripts which will use our local version. Add following entry to package.json:\n",
    "\n",
    "      \"scripts\": {\"build\": \"babel src -d lib\"}\n",
    "\n",
    "\n",
    "- From the terminal run command:\n",
    "\n",
    "      > npm run build\n",
    "\n",
    "\n",
    "\n",
    "###### 2. install preset and create/modify .babelrc configuration file\n",
    "\n",
    "- Create a .babelrc config in your project root. You can use the env preset, which enables transforms for ES2015+:\n",
    "\n",
    "      > npm install --save-dev babel-preset-env\n",
    "    \n",
    "    \n",
    "- In order to enable the preset you have to define it in your .babelrc file:      \n",
    "      \n",
    "      {\"presets\": [\"env\"]}\n",
    "\n",
    "\n",
    "\n",
    "###### 3. run babel on original es6 js file\n",
    "\n",
    "[Using Babel as npm script](https://github.com/babel/website/issues/642)\n",
    "\n",
    "    > npm run babel -- original.js --out-file bundle.js -w --source-maps\n",
    "    \n",
    "    -w for watching file changes\n",
    "    --source-maps for debugging in the browser\n",
    "\n",
    "\n",
    "https://stackoverflow.com/questions/34747693/how-do-i-get-babel-6-to-compile-to-es5-javascript?answertab=active#tab-top\n",
    "\n",
    "\n",
    "\n",
    "###### 4. polyfill\n",
    "\n",
    "    > npm install --save-dev babel-polyfill\n",
    "\n"
   ]
  },
  {
   "cell_type": "markdown",
   "metadata": {},
   "source": [
    "# babel-preset-env\n",
    "\n",
    "\n",
    "http://2ality.com/2017/02/babel-preset-env.html\n",
    "\n",
    "\n",
    "###### babel-preset-env: a preset that configures Babel for you\n",
    "\n",
    "- babel-preset-env is a new preset that lets you specify an environment and automatically enables the necessary plugins.\n",
    "\n",
    "\n",
    "###### Node.js  \n",
    "\n",
    "- If you compile your code for Node.js on the fly via Babel, babel-preset-env is especially useful, because it reacts to the currently running version of Node.js if you set the target \"node\" to \"current\":\n",
    "\n",
    "###### Asynchronous iteration demo\n",
    "https://github.com/rauschma/async-iter-demo\n",
    "\n",
    "[Axel Rauschmayer](https://github.com/rauschma)\n",
    "\n",
    "\n",
    "\n",
    "# Debugging\n",
    "\n",
    "- in Chrome DevTools go to Source tab, in Setting ensure Enable JavaScript source map is checked.\n",
    "\n"
   ]
  },
  {
   "cell_type": "markdown",
   "metadata": {},
   "source": [
    "# Variables and Scoping"
   ]
  },
  {
   "cell_type": "code",
   "execution_count": 18,
   "metadata": {},
   "outputs": [
    {
     "data": {
      "text/plain": [
       "undefined"
      ]
     },
     "execution_count": 18,
     "metadata": {},
     "output_type": "execute_result"
    }
   ],
   "source": [
    "var a = 1;\n",
    "{ let b = 2;\n",
    "}\n",
    "const C = 3;\n",
    "\n"
   ]
  },
  {
   "cell_type": "markdown",
   "metadata": {},
   "source": [
    "# Constants\n",
    "\n",
    "- Constants are immutable objects\n",
    "\n",
    "- You can not assign some other value or object, but you can mutate it through changing of its properties.\n"
   ]
  },
  {
   "cell_type": "code",
   "execution_count": 1,
   "metadata": {},
   "outputs": [
    {
     "data": {
      "text/plain": [
       "undefined"
      ]
     },
     "execution_count": 1,
     "metadata": {},
     "output_type": "execute_result"
    }
   ],
   "source": [
    "const imm = \"this is immutable string\";"
   ]
  },
  {
   "cell_type": "code",
   "execution_count": 2,
   "metadata": {},
   "outputs": [
    {
     "name": "stdout",
     "output_type": "stream",
     "text": [
      "this is immutable string\n"
     ]
    },
    {
     "data": {
      "text/plain": [
       "'this is immutable string'"
      ]
     },
     "execution_count": 2,
     "metadata": {},
     "output_type": "execute_result"
    }
   ],
   "source": [
    "console.log(imm);\n",
    "imm;"
   ]
  },
  {
   "cell_type": "code",
   "execution_count": 3,
   "metadata": {},
   "outputs": [
    {
     "data": {
      "text/plain": [
       "{}"
      ]
     },
     "execution_count": 3,
     "metadata": {},
     "output_type": "execute_result"
    }
   ],
   "source": [
    "const immObj = {};\n",
    "immObj;"
   ]
  },
  {
   "cell_type": "code",
   "execution_count": 7,
   "metadata": {},
   "outputs": [
    {
     "data": {
      "text/plain": [
       "'Test String'"
      ]
     },
     "execution_count": 7,
     "metadata": {},
     "output_type": "execute_result"
    }
   ],
   "source": [
    "immObj.test = \"Test String\";\n",
    "immObj.test;"
   ]
  },
  {
   "cell_type": "code",
   "execution_count": 8,
   "metadata": {},
   "outputs": [
    {
     "data": {
      "text/plain": [
       "{ test: 'Test String' }"
      ]
     },
     "execution_count": 8,
     "metadata": {},
     "output_type": "execute_result"
    }
   ],
   "source": [
    "immObj;"
   ]
  },
  {
   "cell_type": "markdown",
   "metadata": {
    "collapsed": true
   },
   "source": [
    "# SPREAD Operator  ...\n"
   ]
  },
  {
   "cell_type": "code",
   "execution_count": 16,
   "metadata": {},
   "outputs": [
    {
     "name": "stdout",
     "output_type": "stream",
     "text": [
      "[ 1, 2, 3, 4, 5, 6, 7, 8, 9 ]\n",
      "4\n",
      "5\n",
      "6\n",
      "[ 4, 5, 6 ]\n"
     ]
    },
    {
     "data": {
      "text/plain": [
       "undefined"
      ]
     },
     "execution_count": 16,
     "metadata": {},
     "output_type": "execute_result"
    }
   ],
   "source": [
    "var best = [4, 5, 6];\n",
    "var first = [1, 2, 3];\n",
    "\n",
    "var all = [1, 2, 3, ...best, 7, 8, 9];\n",
    "console.log(all);\n",
    "\n",
    "\n",
    "var showItems = function(...args) {\n",
    "    for (var x = 0; x < args.length; x++) {\n",
    "        console.log(args[x]);\n",
    "    }\n",
    "}\n",
    "\n",
    "showItems(...best);\n",
    "console.log(best);"
   ]
  },
  {
   "cell_type": "markdown",
   "metadata": {},
   "source": [
    "## Destructuring List and Objects\n",
    "\n",
    "http://exploringjs.com/es6/ch_destructuring.html"
   ]
  },
  {
   "cell_type": "markdown",
   "metadata": {},
   "source": [
    "#### DESTRUCTURING ASSIGNMENT"
   ]
  },
  {
   "cell_type": "code",
   "execution_count": 20,
   "metadata": {},
   "outputs": [
    {
     "name": "stdout",
     "output_type": "stream",
     "text": [
      "1\n",
      "2\n",
      "[ 3, 4, 5, 6, 7, 8, 9 ]\n"
     ]
    },
    {
     "data": {
      "text/plain": [
       "undefined"
      ]
     },
     "execution_count": 20,
     "metadata": {},
     "output_type": "execute_result"
    }
   ],
   "source": [
    "var a, b, rest;\n",
    "[a, b, ...rest] = [1, 2, 3, 4, 5, 6, 7, 8, 9];\n",
    "console.log(a);\n",
    "console.log(b);\n",
    "console.log(rest);"
   ]
  },
  {
   "cell_type": "markdown",
   "metadata": {},
   "source": [
    "#### DESTRUCTURING OBJECT"
   ]
  },
  {
   "cell_type": "code",
   "execution_count": 29,
   "metadata": {},
   "outputs": [
    {
     "name": "stdout",
     "output_type": "stream",
     "text": [
      "1\n",
      "2\n"
     ]
    },
    {
     "data": {
      "text/plain": [
       "undefined"
      ]
     },
     "execution_count": 29,
     "metadata": {},
     "output_type": "execute_result"
    }
   ],
   "source": [
    "var myObj = {a: 1, b: 2}\n",
    "\n",
    "var {a: c, b: d} = myObj;\n",
    "\n",
    "console.log(c);\n",
    "console.log(d);\n"
   ]
  },
  {
   "cell_type": "markdown",
   "metadata": {
    "collapsed": true
   },
   "source": [
    "# Object Shorthand Creation"
   ]
  },
  {
   "cell_type": "code",
   "execution_count": 21,
   "metadata": {},
   "outputs": [
    {
     "name": "stdout",
     "output_type": "stream",
     "text": [
      "cat\n",
      "{ a: '1', b: '2', c: '3' }\n"
     ]
    },
    {
     "data": {
      "text/plain": [
       "undefined"
      ]
     },
     "execution_count": 21,
     "metadata": {},
     "output_type": "execute_result"
    }
   ],
   "source": [
    "var myObject = {x: \"cat\", y: \"dog\"};\n",
    "\n",
    "console.log(myObject.x);\n",
    "\n",
    "var a = \"1\";\n",
    "var b = \"2\";\n",
    "var c = \"3\";\n",
    "\n",
    "var newObj = {a, b, c};\n",
    "console.log(newObj);"
   ]
  },
  {
   "cell_type": "markdown",
   "metadata": {},
   "source": [
    "# Alex Video on Object Literals, Proto chaining, Constructors"
   ]
  },
  {
   "cell_type": "code",
   "execution_count": 38,
   "metadata": {},
   "outputs": [
    {
     "data": {
      "text/plain": [
       "{ name: 'Jane' }"
      ]
     },
     "execution_count": 38,
     "metadata": {},
     "output_type": "execute_result"
    }
   ],
   "source": [
    "var ProtoPerson = {\n",
    "    field: function() {\n",
    "        return this.name\n",
    "    }\n",
    "};\n",
    "\n",
    "var Jane = {\n",
    "    __proto__: ProtoPerson,\n",
    "    name: \"Jane\"\n",
    "};\n",
    "Jane;\n",
    "\n"
   ]
  },
  {
   "cell_type": "markdown",
   "metadata": {},
   "source": [
    "# Arrow Functions"
   ]
  },
  {
   "cell_type": "code",
   "execution_count": 43,
   "metadata": {},
   "outputs": [
    {
     "name": "stdout",
     "output_type": "stream",
     "text": [
      "Hello world\n",
      "arrow function\n",
      "2\n",
      "34\n"
     ]
    },
    {
     "data": {
      "text/plain": [
       "undefined"
      ]
     },
     "execution_count": 43,
     "metadata": {},
     "output_type": "execute_result"
    }
   ],
   "source": [
    "var oldWay = function() {\n",
    "    console.log(\"Hello world\");\n",
    "};\n",
    "oldWay();\n",
    "\n",
    "var newWay = () => {\n",
    "    console.log(\"arrow function\");\n",
    "};\n",
    "\n",
    "var newWay2 = arg2 => {\n",
    "    console.log(arg2);\n",
    "};\n",
    "\n",
    "var newWay3 = (arg3, arg4) => {\n",
    "    console.log(arg3 + arg4);\n",
    "};\n",
    "\n",
    "newWay();\n",
    "newWay2(\"2\");\n",
    "newWay3(\"3\", \"4\");"
   ]
  },
  {
   "cell_type": "markdown",
   "metadata": {},
   "source": [
    "# Template Literals"
   ]
  },
  {
   "cell_type": "code",
   "execution_count": 53,
   "metadata": {},
   "outputs": [
    {
     "name": "stdout",
     "output_type": "stream",
     "text": [
      "\n",
      "this is long string\n",
      "more long due to Maroon5\n",
      "testing\n",
      "\n",
      "\n",
      "    this is long string\n",
      "    more long due to Matrix being around for 15 years\n",
      "    testing-123\n",
      "    \n"
     ]
    },
    {
     "data": {
      "text/plain": [
       "undefined"
      ]
     },
     "execution_count": 53,
     "metadata": {},
     "output_type": "execute_result"
    }
   ],
   "source": [
    "\n",
    "var band = \"Maroon5\";\n",
    "\n",
    "var longString = `\n",
    "this is long string\n",
    "more long due to ${band}\n",
    "testing\n",
    "`;\n",
    "\n",
    "band = \"NotSureWhatsTheirName\"\n",
    "console.log(longString);\n",
    "\n",
    "var getDescription = (band, period) =>  {\n",
    "    return `\n",
    "    this is long string\n",
    "    more long due to ${band} being around for ${period} years\n",
    "    testing-123\n",
    "    `;\n",
    "}\n",
    "\n",
    "console.log(getDescription(\"Matrix\", 15));\n"
   ]
  },
  {
   "cell_type": "markdown",
   "metadata": {},
   "source": [
    "# CLASSES"
   ]
  },
  {
   "cell_type": "code",
   "execution_count": 1,
   "metadata": {},
   "outputs": [
    {
     "name": "stdout",
     "output_type": "stream",
     "text": [
      "name =  Bayside\n",
      "origin =  Queens\n"
     ]
    },
    {
     "data": {
      "text/plain": [
       "undefined"
      ]
     },
     "execution_count": 1,
     "metadata": {},
     "output_type": "execute_result"
    }
   ],
   "source": [
    "class Band {\n",
    "\n",
    "    constructor(name, origin) {\n",
    "        this.name = name;\n",
    "        this.origin = origin;\n",
    "    }\n",
    "\n",
    "    printName() {\n",
    "        console.log(\"name = \", this.name);\n",
    "    }\n",
    "\n",
    "    printOrigin() {\n",
    "        console.log(\"origin = \", this.origin);\n",
    "    }\n",
    "}\n",
    "\n",
    "var bayside = new Band(\"Bayside\", \"Queens\");\n",
    "\n",
    "bayside.printName();\n",
    "bayside.printOrigin();\n"
   ]
  },
  {
   "cell_type": "code",
   "execution_count": 2,
   "metadata": {},
   "outputs": [
    {
     "name": "stdout",
     "output_type": "stream",
     "text": [
      "name =  Bayside\n",
      "origin =  Queens\n"
     ]
    },
    {
     "data": {
      "text/plain": [
       "undefined"
      ]
     },
     "execution_count": 2,
     "metadata": {},
     "output_type": "execute_result"
    }
   ],
   "source": [
    "var bayside = new Band(\"Bayside\", \"Queens\");\n",
    "\n",
    "bayside.printName();\n",
    "bayside.printOrigin();"
   ]
  },
  {
   "cell_type": "markdown",
   "metadata": {},
   "source": [
    "# SUB-CLASSING and SUPER()\n",
    "\n",
    "Super() provides more than access to \"this\", it is used in overrides as a mean of augmenting the base method, it can take arguments.\n",
    "\n",
    "- When used in constructor() you would pass common arguments up to the parent rather than duplicating the code.\n"
   ]
  },
  {
   "cell_type": "code",
   "execution_count": 11,
   "metadata": {},
   "outputs": [
    {
     "name": "stdout",
     "output_type": "stream",
     "text": [
      "this is an override +  Bayside\n",
      "origin =  Queens\n",
      "Alternative\n"
     ]
    },
    {
     "data": {
      "text/plain": [
       "undefined"
      ]
     },
     "execution_count": 11,
     "metadata": {},
     "output_type": "execute_result"
    }
   ],
   "source": [
    "class Band {\n",
    "    \n",
    "    constructor(name, origin) {\n",
    "        this.name = name;\n",
    "        this.origin = origin;\n",
    "    }\n",
    "\n",
    "    printName() {\n",
    "        console.log(\"name = \", this.name);\n",
    "    }\n",
    "\n",
    "    printOrigin() {\n",
    "        console.log(\"origin = \", this.origin);\n",
    "    }\n",
    "}\n",
    "\n",
    "\n",
    "class Member extends Band {\n",
    "    \n",
    "    constructor(name, origin, genre) {\n",
    "        super(name, origin);\n",
    "        this.genre = genre;            \n",
    "    }\n",
    "    printName() {            \n",
    "        console.log(\"this is an override + \", this.name);\n",
    "    }\n",
    "    printGenre() {            \n",
    "        console.log(this.genre);\n",
    "    }\n",
    "} \n",
    "\n",
    "var bayside = new Member(\"Bayside\", \"Queens\", \"Alternative\");\n",
    "bayside.printName();\n",
    "bayside.printOrigin();\n",
    "bayside.printGenre();"
   ]
  },
  {
   "cell_type": "markdown",
   "metadata": {
    "collapsed": true
   },
   "source": [
    "# SourceMaps allow to debug\n",
    "\n",
    "    > npm run babel"
   ]
  },
  {
   "cell_type": "markdown",
   "metadata": {
    "collapsed": true
   },
   "source": [
    "# Default Arguments\n",
    "\n",
    "NaN - Not a Number\n",
    "- unique object in JavaScript (not a type)"
   ]
  },
  {
   "cell_type": "code",
   "execution_count": 7,
   "metadata": {},
   "outputs": [
    {
     "name": "stdout",
     "output_type": "stream",
     "text": [
      "10\n"
     ]
    },
    {
     "data": {
      "text/plain": [
       "undefined"
      ]
     },
     "execution_count": 7,
     "metadata": {},
     "output_type": "execute_result"
    }
   ],
   "source": [
    "function test(a = 0) {\n",
    "    console.log(a + 10);\n",
    "}\n",
    "\n",
    "test();"
   ]
  },
  {
   "cell_type": "markdown",
   "metadata": {
    "collapsed": true
   },
   "source": [
    "# for() vs forEach() vs map()\n",
    "\n",
    "- https://ryanpcmcquen.org/javascript/2015/10/25/map-vs-foreach-vs-for.html\n",
    "\n",
    "\n",
    "\n",
    "\n"
   ]
  },
  {
   "cell_type": "markdown",
   "metadata": {
    "collapsed": true
   },
   "source": [
    "# For Loop, becoming obsolete in JavaScript"
   ]
  },
  {
   "cell_type": "code",
   "execution_count": 20,
   "metadata": {},
   "outputs": [
    {
     "name": "stdout",
     "output_type": "stream",
     "text": [
      "a\n",
      "b\n",
      "c\n",
      "d\n",
      "e\n",
      "f\n",
      "g\n",
      "h\n"
     ]
    },
    {
     "data": {
      "text/plain": [
       "undefined"
      ]
     },
     "execution_count": 20,
     "metadata": {},
     "output_type": "execute_result"
    }
   ],
   "source": [
    "var myArray = ['a', 'b', 'c', 'd', 'e', 'f', 'g', 'h'];\n",
    "\n",
    "for (var x = 0; x < myArray.length; x++) {\n",
    "    console.log(myArray[x]);\n",
    "}"
   ]
  },
  {
   "cell_type": "markdown",
   "metadata": {},
   "source": [
    "# New For Loop\n",
    "\n",
    "- for () loops should be avoided unless you have determined that there is some necessary benefit they deliver to your end user that no other iteration method is capable of (such as a performance necessity)."
   ]
  },
  {
   "cell_type": "code",
   "execution_count": 16,
   "metadata": {},
   "outputs": [
    {
     "name": "stdout",
     "output_type": "stream",
     "text": [
      "a\n",
      "b\n",
      "c\n",
      "d\n",
      "e\n",
      "f\n",
      "g\n",
      "h\n"
     ]
    },
    {
     "data": {
      "text/plain": [
       "undefined"
      ]
     },
     "execution_count": 16,
     "metadata": {},
     "output_type": "execute_result"
    }
   ],
   "source": [
    "for (let i of myArray) {\n",
    "    console.log(i);\n",
    "}"
   ]
  },
  {
   "cell_type": "markdown",
   "metadata": {},
   "source": [
    "# forEach()\n",
    "\n",
    "- forEach() method executes provided function over each array element. \n",
    "- For other than functional programming paradigms (and even in some rare cases within the functional paradigm), .forEach() is the proper choice. \n"
   ]
  },
  {
   "cell_type": "code",
   "execution_count": 18,
   "metadata": {},
   "outputs": [
    {
     "name": "stdout",
     "output_type": "stream",
     "text": [
      "a\n",
      "b\n",
      "c\n",
      "d\n",
      "e\n",
      "f\n",
      "g\n",
      "h\n"
     ]
    },
    {
     "data": {
      "text/plain": [
       "undefined"
      ]
     },
     "execution_count": 18,
     "metadata": {},
     "output_type": "execute_result"
    }
   ],
   "source": [
    "myArray.forEach(function(elm) {\n",
    "    console.log(elm);\n",
    "});"
   ]
  },
  {
   "cell_type": "markdown",
   "metadata": {},
   "source": [
    "# map()\n",
    "\n",
    "- You should favor .map() and .reduce(), if you prefer the functional paradigm of programming. \n",
    "\n"
   ]
  },
  {
   "cell_type": "code",
   "execution_count": null,
   "metadata": {
    "collapsed": true
   },
   "outputs": [],
   "source": []
  },
  {
   "cell_type": "markdown",
   "metadata": {},
   "source": [
    "# Callback & Higher Order Function\n",
    "\n",
    "http://javascriptissexy.com/understand-javascript-callback-functions-and-use-them/"
   ]
  },
  {
   "cell_type": "code",
   "execution_count": null,
   "metadata": {
    "collapsed": true
   },
   "outputs": [],
   "source": []
  },
  {
   "cell_type": "markdown",
   "metadata": {},
   "source": [
    "# JavaScript Promises\n",
    "\n",
    "https://wildermuth.com/2013/08/03/JavaScript_Promises\n",
    "\n"
   ]
  },
  {
   "cell_type": "code",
   "execution_count": null,
   "metadata": {
    "collapsed": true
   },
   "outputs": [],
   "source": []
  },
  {
   "cell_type": "markdown",
   "metadata": {},
   "source": [
    "# Compare forEach() with reduce()"
   ]
  },
  {
   "cell_type": "code",
   "execution_count": 22,
   "metadata": {},
   "outputs": [
    {
     "data": {
      "text/plain": [
       "undefined"
      ]
     },
     "execution_count": 22,
     "metadata": {},
     "output_type": "execute_result"
    }
   ],
   "source": [
    "var task = {\n",
    "    name: 1,\n",
    "    level: 2,\n",
    "    group: 3\n",
    "};\n",
    "\n"
   ]
  },
  {
   "cell_type": "code",
   "execution_count": 30,
   "metadata": {},
   "outputs": [
    {
     "name": "stdout",
     "output_type": "stream",
     "text": [
      "{ name: null, level: null, group: null }\n",
      "{ name: null, level: null, group: null }\n"
     ]
    },
    {
     "data": {
      "text/plain": [
       "undefined"
      ]
     },
     "execution_count": 30,
     "metadata": {},
     "output_type": "execute_result"
    }
   ],
   "source": [
    "var bar = {};\n",
    "Object.keys(task).forEach(function (prop) {\n",
    "    bar[prop] = null;\n",
    "});\n",
    "\n",
    "var bar_2 = Object.keys(task).reduce(function (newObj, prop) {\n",
    "    newObj[prop] = null;\n",
    "    return newObj;\n",
    "}, {});\n",
    "\n",
    "console.log(bar);\n",
    "console.log(bar_2);"
   ]
  },
  {
   "cell_type": "markdown",
   "metadata": {},
   "source": [
    "# Stuck at recreating map() for give forEach()\n",
    "- https://stackoverflow.com/questions/12482961/is-it-possible-to-change-values-of-the-array-when-doing-foreach-in-javascript\n"
   ]
  },
  {
   "cell_type": "code",
   "execution_count": 46,
   "metadata": {},
   "outputs": [
    {
     "name": "stdout",
     "output_type": "stream",
     "text": [
      "6\n",
      "10\n",
      "8\n",
      "[ 5, 9, 7 ]\n",
      "undefined\n",
      "[ undefined, undefined, undefined ]\n"
     ]
    },
    {
     "data": {
      "text/plain": [
       "undefined"
      ]
     },
     "execution_count": 46,
     "metadata": {},
     "output_type": "execute_result"
    }
   ],
   "source": [
    "var nums = [\n",
    "    5,\n",
    "    9,\n",
    "    7\n",
    "];\n",
    "\n",
    "nums.forEach(function (num, index, first) {\n",
    "    return num + 1;\n",
    "});\n",
    "\n",
    "\n",
    "var second = nums.map(function (num) {\n",
    "    return num + 1;\n",
    "});\n",
    "\n",
    "var second = nums.map(function (num) {\n",
    "    return console.log(num + 1);\n",
    "});\n",
    "\n",
    "console.log(nums);\n",
    "console.log(first);\n",
    "console.log(second);\n",
    "\n",
    "\n",
    "// arr.forEach(function(part, index, theArray) {\n",
    "//   theArray[index] = \"hello world\";\n",
    "// });\n",
    "\n"
   ]
  },
  {
   "cell_type": "code",
   "execution_count": 52,
   "metadata": {},
   "outputs": [
    {
     "data": {
      "text/plain": [
       "{}"
      ]
     },
     "execution_count": 52,
     "metadata": {},
     "output_type": "execute_result"
    }
   ],
   "source": [
    "var first = {};\n",
    "nums.forEach((o, i, first) => first[i] = o + 1);\n",
    "first;"
   ]
  },
  {
   "cell_type": "markdown",
   "metadata": {},
   "source": [
    "# Modules\n",
    "\n",
    "- check if browser supports modules\n",
    "https://paulirish.github.io/es-modules-todomvc/\n",
    "\n"
   ]
  },
  {
   "cell_type": "markdown",
   "metadata": {},
   "source": [
    "# Study Later on\n",
    "\n",
    "- great discussion on comments: https://css-tricks.com/how-do-you-structure-javascript-the-module-pattern-edition/\n",
    "- https://jakearchibald.com/2017/es-modules-in-browsers/\n",
    "- webpack: http://blog.andrewray.me/webpack-when-to-use-and-why/\n",
    "- modules: https://medium.freecodecamp.org/javascript-modules-a-beginner-s-guide-783f7d7a5fcc\n",
    "\n",
    "\n"
   ]
  },
  {
   "cell_type": "markdown",
   "metadata": {
    "collapsed": true
   },
   "source": [
    "# Creating Classes in JavaScript withuot *class* keyword - Closure\n",
    "\n",
    "- Example taken from TypeScript training on Pluralsight\n"
   ]
  },
  {
   "cell_type": "code",
   "execution_count": 2,
   "metadata": {},
   "outputs": [
    {
     "name": "stdout",
     "output_type": "stream",
     "text": [
      "Hello, world\n"
     ]
    },
    {
     "data": {
      "text/plain": [
       "undefined"
      ]
     },
     "execution_count": 2,
     "metadata": {},
     "output_type": "execute_result"
    }
   ],
   "source": [
    "// JavaScript creating Class without class keyword\n",
    "var Greeter = (function () {\n",
    "    function Inner(message) {\n",
    "\n",
    "        this.greeting = message;\n",
    "    }\n",
    "\n",
    "    Inner.prototype.greet = function () {\n",
    "        return \"Hello, \" + this.greeting;\n",
    "    };\n",
    "\n",
    "    return Inner;\n",
    "})();\n",
    "\n",
    "var aaa = new Greeter(\"world\");\n",
    "console.log(aaa.greet());"
   ]
  },
  {
   "cell_type": "code",
   "execution_count": 10,
   "metadata": {},
   "outputs": [
    {
     "name": "stdout",
     "output_type": "stream",
     "text": [
      "Hello, Biljana\n"
     ]
    },
    {
     "data": {
      "text/plain": [
       "undefined"
      ]
     },
     "execution_count": 10,
     "metadata": {},
     "output_type": "execute_result"
    }
   ],
   "source": [
    "// ES6 class keyword\n",
    "class Greeter_3 {\n",
    "    constructor(message) {\n",
    "        this.greeting = message;\n",
    "    }\n",
    "\n",
    "    greet() {\n",
    "        return \"Hello, \" + this.greeting;\n",
    "    }\n",
    "}\n",
    "\n",
    "var bbb = new Greeter_3(\"Biljana\");\n",
    "console.log(bbb.greet());"
   ]
  },
  {
   "cell_type": "code",
   "execution_count": null,
   "metadata": {
    "collapsed": true
   },
   "outputs": [],
   "source": []
  },
  {
   "cell_type": "code",
   "execution_count": null,
   "metadata": {
    "collapsed": true
   },
   "outputs": [],
   "source": []
  }
 ],
 "metadata": {
  "kernelspec": {
   "display_name": "Javascript (Node.js)",
   "language": "javascript",
   "name": "javascript"
  },
  "language_info": {
   "file_extension": ".js",
   "mimetype": "application/javascript",
   "name": "javascript",
   "version": "6.10.2"
  }
 },
 "nbformat": 4,
 "nbformat_minor": 2
}
