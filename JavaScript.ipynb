{
 "cells": [
  {
   "cell_type": "markdown",
   "metadata": {},
   "source": [
    "# JavaScript Simple and Great Blog:\n",
    "\n",
    "###### - Map, forEach, filter, reduce, etc.\n",
    "- https://www.sitepoint.com/back-to-basics-array-extras/\n",
    "- [Hoisting](https://www.sitepoint.com/back-to-basics-javascript-hoisting/)\n",
    "\n",
    "- https://www.sitepoint.com/javascript/\n",
    "\n",
    "\n"
   ]
  },
  {
   "cell_type": "code",
   "execution_count": null,
   "metadata": {
    "collapsed": true
   },
   "outputs": [],
   "source": []
  },
  {
   "cell_type": "code",
   "execution_count": null,
   "metadata": {
    "collapsed": true
   },
   "outputs": [],
   "source": []
  },
  {
   "cell_type": "markdown",
   "metadata": {},
   "source": [
    "# AngularJS\n",
    "\n",
    "- Code quickly with Sublime Text: https://dzone.com/articles/angularjs-how-code-quickly\n",
    "        "
   ]
  },
  {
   "cell_type": "markdown",
   "metadata": {},
   "source": [
    "# Eclipse\n",
    "\n",
    "- Select JavaScript Perspective\n",
    "\n",
    "\n",
    "- Unclutter Projects: https://dzone.com/articles/categorise-projects-package\n",
    "        \n",
    "        "
   ]
  },
  {
   "cell_type": "markdown",
   "metadata": {
    "collapsed": true
   },
   "source": [
    "# Browser Sync\n",
    "\n",
    "https://stackoverflow.com/questions/36653766/browser-sync-and-watching-multiple-folders\n",
    "\n",
    "- To watch for any files in subfolders, start server with following command:\n",
    "\n",
    "    \n",
    "    \n",
    "        browser-sync start --server --directory --files=\"**/*\"\n",
    "    \n",
    "    "
   ]
  },
  {
   "cell_type": "markdown",
   "metadata": {},
   "source": [
    "# JavaScript Tutorial\n",
    "\n",
    "- Node Beginner: https://www.nodebeginner.org/\n",
    "\n",
    "\n",
    "- Complete Tutorial: https://developer.mozilla.org/en-US/docs/Web/JavaScript\n",
    "\n",
    "\n",
    "- Quick Reference, such as writing file: https://docs.nodejitsu.com/articles/\n",
    "\n",
    "\n",
    "- Walk Through Basic tutorial: https://www.quackit.com/javascript/tutorial/introduction.cfm\n",
    "    \n",
    "    "
   ]
  },
  {
   "cell_type": "markdown",
   "metadata": {
    "collapsed": true
   },
   "source": [
    "# Troubleshoot JavaScript\n",
    "\n",
    "### require and fs doesn't run in the browser\n",
    "- answer is browserify\n",
    "\n",
    "- https://github.com/nodejs/help/issues/102\n",
    "\n",
    "\n",
    "### to writeFile, run script.js in the node\n",
    "\n",
    "    var fs = require('fs');\n",
    "    fs.writeFile('helloworld.txt', 'Hello World!', function (err) {\n",
    "      if (err) return console.log(err);\n",
    "      console.log('Hello World > helloworld.txt');\n",
    "    });\n",
    "\n",
    "### not writing to Chrome Console after new profile\n",
    "\n",
    "- http://forums.mozillazine.org/viewtopic.php?f=19&t=2294153\n",
    "\n",
    "\n"
   ]
  },
  {
   "cell_type": "markdown",
   "metadata": {},
   "source": [
    "# Learn from Answers\n",
    "\n",
    "- https://stackoverflow.com/questions/951021/what-is-the-javascript-version-of-sleep"
   ]
  },
  {
   "cell_type": "markdown",
   "metadata": {
    "collapsed": true
   },
   "source": [
    "# JavaScript & Node - starting up\n",
    "\n",
    "- https://stackoverflow.com/questions/6737824/how-to-run-a-hello-js-file-in-node-js-on-windows\n",
    "\n",
    "- https://github.com/workshopper/javascripting\n",
    "\n",
    "\n",
    "### Hello Node\n",
    "\n",
    "- https://howtonode.org/hello-node\n",
    "\n",
    "\n"
   ]
  },
  {
   "cell_type": "markdown",
   "metadata": {},
   "source": [
    "# Node - FileSystem module\n",
    "\n",
    "https://www.sitepoint.com/accessing-the-file-system-in-node-js/\n",
    "\n",
    "\n",
    "    var fs = require(\"fs\");\n",
    "    var fileName = \"foo.txt\";\n",
    "\n",
    "    fs.exists(fileName, function(exists) {\n",
    "      if (exists) {\n",
    "        fs.stat(fileName, function(error, stats) {\n",
    "          fs.open(fileName, \"r\", function(error, fd) {\n",
    "            var buffer = new Buffer(stats.size);\n",
    "\n",
    "            fs.read(fd, buffer, 0, buffer.length, null, function(error, bytesRead, buffer) {\n",
    "              var data = buffer.toString(\"utf8\", 0, buffer.length);\n",
    "\n",
    "              console.log(data);\n",
    "              fs.close(fd);\n",
    "            });\n",
    "          });\n",
    "        });\n",
    "      }\n",
    "    });\n"
   ]
  },
  {
   "cell_type": "markdown",
   "metadata": {},
   "source": [
    "# A re-introduction to JavaScript\n",
    "\n",
    "https://developer.mozilla.org/en-US/docs/Web/JavaScript/A_re-introduction_to_JavaScript\n",
    "    \n",
    "    "
   ]
  },
  {
   "cell_type": "markdown",
   "metadata": {
    "collapsed": true
   },
   "source": [
    "# Variable Scope\n",
    "\n",
    "https://developer.mozilla.org/en-US/docs/Web/JavaScript/Guide/Grammar_and_types#Variable_scope\n",
    "    \n",
    "\n",
    "\n",
    "### Variable Hoisting\n",
    "\n",
    "### Function Hoisting\n",
    "\n"
   ]
  },
  {
   "cell_type": "markdown",
   "metadata": {},
   "source": [
    "# JavaScript CheatSheet\n",
    "\n",
    "https://www.codementor.io/johnnyb/javascript-cheatsheet-fb54lz08k\n",
    "    \n",
    "    "
   ]
  },
  {
   "cell_type": "markdown",
   "metadata": {
    "collapsed": true
   },
   "source": [
    "# HTML Button onclick Event discussion\n",
    "- https://stackoverflow.com/questions/4825295/javascript-onclick-to-get-the-id-of-the-clicked-button\n",
    "\n",
    "\n",
    "### Button Event\n",
    "\n",
    "----\n",
    "\n",
    "    < a id=\"button\" href=\"#\" onclick=\"alert(\"message\")\">Click Me</button>\n",
    "    \n",
    "----\n",
    "    \n",
    "    \n",
    "    < script>\n",
    "        button = document.getElementById('button')\n",
    "        button.addEventListener(\"click\", function() {\n",
    "            alert(\"message\");                   \n",
    "        \n",
    "        }    \n",
    "    </script>\n",
    "\n",
    "----\n",
    "\n",
    "    < button onclick=\"anotherFunction()\">Click Me</button>\n",
    "    \n",
    "    \n",
    "----\n",
    "\n",
    "    < button id=\"1\" onclick=\"anotherFunction(this.id)\">Butt1</button>\n",
    "    < button id=\"2\" onclick=\"anotherFunction(this.id)\">Butt2</button>\n",
    "    < button id=\"3\" onclick=\"anotherFunction(this.id)\">Butt3</button>\n",
    "    \n",
    "----\n",
    "\n",
    "    < script src=\"js/script.js\"></script>\n",
    "    \n",
    "    \n",
    "----    \n",
    "    \n",
    "    \n",
    "### < input type=\"button\" value=\"Click Me\">\n",
    "\n",
    "- https://developer.mozilla.org/en-US/docs/Web/HTML/Element/input/button\n",
    "\n",
    "- Note: While < input> elements of type \"button\" are still perfectly valid HTML, the newer < button> element is now the favored way to create buttons, which has some advantages. It supports the \"menu\" type, which lets the button serve as the trigger for a popup menu, and given that a < button>'s label text is inserted between the opening and closing tags, you can include HTML in the label, even images.   \n",
    "\n"
   ]
  },
  {
   "cell_type": "markdown",
   "metadata": {
    "collapsed": true
   },
   "source": [
    "# Unobtrusive JavaScript\n",
    "- https://www.quackit.com/javascript/tutorial/unobtrusive_javascript.cfm"
   ]
  },
  {
   "cell_type": "code",
   "execution_count": 2,
   "metadata": {},
   "outputs": [
    {
     "data": {
      "text/plain": [
       "undefined"
      ]
     },
     "execution_count": 2,
     "metadata": {},
     "output_type": "execute_result"
    }
   ],
   "source": [
    "// Wait for DOM to load\n",
    "document.addEventListener(\"DOMContentLoaded\", function(event) {\n",
    "\n",
    "  // Hide the submit button. Non-JavaScript users will still see it.\n",
    "  document.getElementById(\"submit\").style.display = \"none\";\n",
    "\n",
    "  // Put the form control into a variable\n",
    "  var e = document.getElementById(\"first_name\");\n",
    "  \n",
    "  // Wait for user input  \n",
    "  e.addEventListener(\"keyup\", function() {\n",
    "\n",
    "    var first_name = document.getElementById(\"first_name\").value;\n",
    "    document.getElementById(\"msg\").textContent = first_name;\n",
    "\n",
    "  }, false);\n",
    "  \n",
    "});"
   ]
  },
  {
   "cell_type": "markdown",
   "metadata": {
    "collapsed": true
   },
   "source": [
    "# Date Time functions\n",
    "\n",
    "https://stackoverflow.com/questions/3830244/get-current-date-time-in-seconds\n",
    "\n",
    "\n",
    "- I was using Date.now() for Linux epoch milliseconds, also Math.round()\n",
    "\n",
    "\n"
   ]
  },
  {
   "cell_type": "code",
   "execution_count": null,
   "metadata": {
    "collapsed": true
   },
   "outputs": [],
   "source": []
  },
  {
   "cell_type": "code",
   "execution_count": null,
   "metadata": {
    "collapsed": true
   },
   "outputs": [],
   "source": []
  }
 ],
 "metadata": {
  "kernelspec": {
   "display_name": "Javascript (Node.js)",
   "language": "javascript",
   "name": "javascript"
  },
  "language_info": {
   "file_extension": ".js",
   "mimetype": "application/javascript",
   "name": "javascript",
   "version": "6.11.2"
  }
 },
 "nbformat": 4,
 "nbformat_minor": 2
}
