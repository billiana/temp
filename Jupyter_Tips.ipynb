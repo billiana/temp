{
 "cells": [
  {
   "cell_type": "markdown",
   "metadata": {},
   "source": [
    "# EXPLORE - Create HTML report of Jupyter Notebook run\n",
    "\n",
    "\n",
    "- https://stackoverflow.com/questions/40371187/execute-jupyter-notebook-and-keep-attached-to-existing-kernel\n",
    "\n",
    "       \n",
    "        jupyter nbconvert --execute --allow-errors --stdout test.ipynb >> result.html 2>&1\n",
    "        \n",
    "        jupyter nbconvert --debug --allow-errors --stdout --execute test.ipynb\n",
    "        \n",
    "        \n",
    "\n",
    "\n"
   ]
  },
  {
   "cell_type": "markdown",
   "metadata": {},
   "source": [
    "# New Version of Jupyter 5.0 brings issues\n",
    "\n",
    "[Table Style changed](https://github.com/jupyter/notebook/issues/2209)\n",
    "\n",
    "![img](https://cloud.githubusercontent.com/assets/1020496/23129039/7ae1c1d0-f781-11e6-9698-4d267fb2be24.png \"Image\")"
   ]
  },
  {
   "cell_type": "markdown",
   "metadata": {},
   "source": [
    "# [Markdown Syntax](https://daringfireball.net/projects/markdown/syntax#em)\n",
    "\n",
    "\n",
    "\n",
    "### Writing Documentation in Jupyter\n",
    "\n",
    "- [Writing Documentation in Jupyter](https://www.packtpub.com/books/content/using-jupyter-write-documentation)\n",
    "\n",
    "\n",
    "### Adding Picture to Markdown\n",
    "- [Insert Image](https://stackoverflow.com/questions/10628262/inserting-image-into-ipython-notebook-markdown)\n",
    "\n",
    "- [nest the image and link syntax](https://groups.google.com/forum/#!topic/jupyter/-N7oz0ZW7hM)\n",
    "\n",
    "\n",
    "### Mastering Markdown\n",
    "- [Mastering Markdown](https://guides.github.com/features/mastering-markdown/)\n",
    "\n",
    "\n",
    "### iPython Cookbook\n",
    "\n",
    "\n",
    "- [Minibook for beginners](http://ipython-books.github.io/minibook/)\n",
    "\n",
    "\n",
    "- [Advanced Cookbook](http://ipython-books.github.io/cookbook/)\n",
    "- [Featured Recipes advanced](http://ipython-books.github.io/featured-recipes/)\n",
    "- [Example Recipe for Machine Learning](http://ipython-books.github.io/featured-04/)\n",
    "\n",
    "\n",
    "- [Cookbook Code](https://github.com/ipython-books/cookbook-code  )\n",
    "\n"
   ]
  },
  {
   "cell_type": "markdown",
   "metadata": {},
   "source": [
    "----\n",
    "\n",
    "# Indent or Comment block of code in Jupyter\n",
    "\n",
    "[Jupyter CodeMirror](https://github.com/jupyter/notebook/issues/951)\n",
    "\n",
    "- Indent less with CTRL+[\n",
    "- Indent more with CTRL+]\n",
    "- Comment block with CTRL+/"
   ]
  },
  {
   "cell_type": "markdown",
   "metadata": {
    "collapsed": true
   },
   "source": [
    "----\n",
    "\n",
    "# Advanced Topic - Import Module from Jupyter Notebook\n",
    "\n",
    "[Importing Jupyter Notebooks as Modules](http://jupyter-notebook.readthedocs.io/en/latest/examples/Notebook/Importing%20Notebooks.html)\n",
    "\n",
    "- Notebook Loader\n",
    "- The Module Finder\n",
    "- Register the hook\n",
    "- Aside: displaying notebooks\n",
    "- Notebooks in packages\n",
    "\n",
    "# Advanced Topic - Batch Execution of Jupyter Notebooks\n",
    "\n",
    "http://tritemio.github.io/smbits/2016/01/02/execute-notebooks/"
   ]
  },
  {
   "cell_type": "markdown",
   "metadata": {},
   "source": [
    "----\n",
    "# Cell Magic Commands\n",
    "\n",
    "[Magic Commands](https://stackoverflow.com/questions/21034373/how-to-load-edit-run-save-text-files-py-into-an-ipython-notebook-cell), [Cell Magics in IPython](http://nbviewer.jupyter.org/github/ipython/ipython/blob/1.x/examples/notebooks/Cell%20Magics.ipynb), [Great Cell Magic list](http://ipython.readthedocs.io/en/stable/interactive/magics.html)\n",
    "\n",
    "\n",
    "\n",
    "\n",
    "### Load file.py into notebook\n",
    "\n",
    "- It will load file into existing cell and command original command line \n",
    "\n",
    "        %load C:\\Users\\bilsto1\\python\\unittest\\unittest_1.py\n",
    "        \n",
    "\n",
    "\n",
    "\n",
    "### To write/save file\n",
    "\n",
    "- write/save cell contents into myfile.py (use -a to append). Another alias: %%file myfile.py\n",
    "\n",
    "        %%writefile myfile.py \n",
    "\n",
    "### To run Python file\n",
    "\n",
    "- run myfile.py and output results in the current cell\n",
    "\n",
    "        %run myfile.py\n",
    "\n",
    "### To load/import file\n",
    "\n",
    "- load \"import\" myfile.py into the current cell\n",
    "\n",
    "        %load myfile.py\n",
    "\n",
    "# For more magic and help\n",
    "\n",
    "- list all the other cool cell magic commands.\n",
    "\n",
    "        %lsmagic \n",
    "\n",
    "\n",
    "- for help on how to use a certain command. i.e. %run?\n",
    "\n",
    "        %COMMAND-NAME?"
   ]
  },
  {
   "cell_type": "markdown",
   "metadata": {},
   "source": [
    "----\n",
    "\n",
    "# Unix command\n",
    "\n",
    "- Beside the cell magic commands, IPython notebook (now Jupyter notebook) is so cool that it allows you to use any unix command right from the cell (this is also equivalent to using the %%bash cell magic command).\n",
    "\n",
    "To run a unix command from the cell, just precede your command with **!** mark.\n",
    "\n",
    "- to see your python version\n",
    "\n",
    "        !python --version\n",
    "\n",
    "- run myfile.py and output results in the current cell, just like %run (see the difference between !python and %run in the comments below).\n",
    "\n",
    "\n",
    "        !python myfile.py\n",
    "----\n"
   ]
  },
  {
   "cell_type": "markdown",
   "metadata": {},
   "source": [
    "# Execute cmd commands from IPython\n",
    "\n",
    "[Using Shell Commands](https://www.safaribooksonline.com/blog/2014/02/12/using-shell-commands-effectively-ipython/)\n",
    "\n",
    "\n",
    "    cmd \"/c activate py3k && ipython --pylab\""
   ]
  },
  {
   "cell_type": "code",
   "execution_count": 1,
   "metadata": {},
   "outputs": [
    {
     "name": "stdout",
     "output_type": "stream",
     "text": [
      "C:\\Users\\bilsto1\\Anaconda2\\envs\\py3Env\n"
     ]
    },
    {
     "name": "stderr",
     "output_type": "stream",
     "text": [
      "Python 3.6.1 :: Anaconda 4.4.0 (64-bit)\n"
     ]
    },
    {
     "name": "stdout",
     "output_type": "stream",
     "text": [
      "C:\\Users\\bilsto1\\Anaconda2\\envs\\py3Env\n"
     ]
    }
   ],
   "source": [
    "%pwd\n",
    "%cd C:\\Users\\bilsto1\\Anaconda2\\envs\\py3Env\n",
    "!python --version\n",
    "!cd"
   ]
  },
  {
   "cell_type": "code",
   "execution_count": 33,
   "metadata": {
    "collapsed": true
   },
   "outputs": [],
   "source": [
    "# List Environment Variables\n",
    "%env"
   ]
  },
  {
   "cell_type": "code",
   "execution_count": 7,
   "metadata": {
    "collapsed": true
   },
   "outputs": [],
   "source": [
    "# Show command help\n",
    "%load?"
   ]
  },
  {
   "cell_type": "code",
   "execution_count": 30,
   "metadata": {
    "collapsed": true
   },
   "outputs": [],
   "source": [
    "# Show list of all magic cell commands\n",
    "%lsmagic"
   ]
  },
  {
   "cell_type": "code",
   "execution_count": 31,
   "metadata": {
    "collapsed": true
   },
   "outputs": [],
   "source": [
    "# List command history\n",
    "%history"
   ]
  },
  {
   "cell_type": "code",
   "execution_count": 32,
   "metadata": {
    "collapsed": true
   },
   "outputs": [],
   "source": [
    "# show directory history\n",
    "%dhist"
   ]
  },
  {
   "cell_type": "code",
   "execution_count": 37,
   "metadata": {
    "collapsed": true
   },
   "outputs": [],
   "source": [
    "# Exports history of notebook\n",
    "#%notebook Jupyter_tips.ipynb"
   ]
  },
  {
   "cell_type": "code",
   "execution_count": 37,
   "metadata": {
    "collapsed": true
   },
   "outputs": [],
   "source": [
    "#This function provides very basic timing functionality.\n",
    "#Use the timeit magic for more control over the measurement.\n",
    "%time 2*3"
   ]
  },
  {
   "cell_type": "code",
   "execution_count": 39,
   "metadata": {
    "collapsed": true
   },
   "outputs": [],
   "source": [
    "# Lists all namespaces\n",
    "#Print all interactive variables, with some minimal formatting.\n",
    "%who\n",
    "%who_ls\n",
    "%whos\n",
    "\n",
    "a = 2\n",
    "b = 'biljana'"
   ]
  },
  {
   "cell_type": "code",
   "execution_count": 24,
   "metadata": {
    "collapsed": true
   },
   "outputs": [],
   "source": [
    "# Delete interactive variable\n",
    "%xdel a"
   ]
  },
  {
   "cell_type": "code",
   "execution_count": 34,
   "metadata": {
    "collapsed": true
   },
   "outputs": [],
   "source": [
    "# Inline\n",
    "%%html\n",
    "%%javascript\n",
    "%%js"
   ]
  },
  {
   "cell_type": "markdown",
   "metadata": {},
   "source": [
    "----\n",
    "\n",
    "# Start Jupyter Notebook Server\n",
    "\n",
    "Run Anaconda Prompt, or open cmd prompt then go to working folder, and type command:\n",
    "\n",
    "        Jupyter Notebook\n",
    "    \n",
    "It will start jupyter notebook at http://localhost:8888/tree\n",
    "\n",
    "\n",
    "- Jupyter notebook server starts at default port 8888.\n",
    "\n",
    "----\n",
    "\n",
    "\n",
    "###### KERNEL - provides programming language support in Jupyter, such as Python, Julia, R, rtc.\n",
    "\n",
    "- When Notebook in open, Kernel (computational engine) is started.\n",
    "\n",
    "- Closing Browser will now close the server running notebook\n",
    "\n",
    "\n",
    "----\n",
    "\n",
    "###### KERNEL(s) Running\n",
    "\n",
    "\n",
    "    > jupyter notebook list\n",
    "    \n",
    "    It will show all kernels and their tokens\n",
    "    \n",
    "- Go to localhost:8888/tree, and then enter token for this address/server\n",
    "\n",
    "\n",
    "  "
   ]
  },
  {
   "cell_type": "markdown",
   "metadata": {},
   "source": [
    "# Jupyter Kernels\n",
    "\n",
    "To run Notebook in different languages, you need to install particular kernel:\n",
    "- IPyKernel\n",
    "- IJavaScript\n",
    "- IRKernel\n",
    "- IOctave\n",
    "- IMatLab\n",
    "\n",
    "\n",
    "\n"
   ]
  },
  {
   "cell_type": "markdown",
   "metadata": {},
   "source": [
    "# View Kernel Version from Jupyter, List all available Kernels\n",
    "\n",
    "    import sys\n",
    "    sys.version\n",
    "    sys.version_info\n",
    "    "
   ]
  },
  {
   "cell_type": "code",
   "execution_count": 1,
   "metadata": {},
   "outputs": [
    {
     "data": {
      "text/plain": [
       "sys.version_info(major=3, minor=6, micro=1, releaselevel='final', serial=0)"
      ]
     },
     "execution_count": 1,
     "metadata": {},
     "output_type": "execute_result"
    }
   ],
   "source": [
    "import sys\n",
    "sys.version_info\n"
   ]
  },
  {
   "cell_type": "code",
   "execution_count": 3,
   "metadata": {},
   "outputs": [
    {
     "name": "stdout",
     "output_type": "stream",
     "text": [
      "Available kernels:\n",
      "  python2    C:\\Users\\bilsto1\\Anaconda2\\share\\jupyter\\kernels\\python2\n",
      "  py3env     C:\\ProgramData\\jupyter\\kernels\\py3env\n",
      "  testenv    C:\\ProgramData\\jupyter\\kernels\\testenv\n"
     ]
    }
   ],
   "source": [
    "!jupyter-kernelspec list"
   ]
  },
  {
   "cell_type": "code",
   "execution_count": 7,
   "metadata": {},
   "outputs": [
    {
     "name": "stdout",
     "output_type": "stream",
     "text": [
      "config:\n",
      "    C:\\Users\\bilsto1\\.jupyter\n",
      "    C:\\Users\\bilsto1\\Anaconda2\\etc\\jupyter\n",
      "    C:\\ProgramData\\jupyter\n",
      "data:\n",
      "    C:\\Users\\bilsto1\\AppData\\Roaming\\jupyter\n",
      "    C:\\Users\\bilsto1\\Anaconda2\\share\\jupyter\n",
      "    C:\\ProgramData\\jupyter\n",
      "runtime:\n",
      "    C:\\Users\\bilsto1\\AppData\\Roaming\\jupyter\\runtime\n"
     ]
    }
   ],
   "source": [
    "!jupyter --paths"
   ]
  },
  {
   "cell_type": "markdown",
   "metadata": {},
   "source": [
    "# Autocompletion in Jupyter\n",
    "\n",
    "enter TAB\n",
    "\n",
    "- If any issues, install **pyreadline**\n",
    "- Open jupyter notebook & run the following in one the cell:\n",
    "\n",
    "        %config IPCompleter.greedy=True\n",
    "        \n"
   ]
  },
  {
   "cell_type": "markdown",
   "metadata": {
    "collapsed": true
   },
   "source": [
    "# IJavaScript\n",
    "\n",
    "\n",
    "https://github.com/n-riesco/ijavascript#installation\n",
    "    \n",
    "    "
   ]
  },
  {
   "cell_type": "markdown",
   "metadata": {
    "collapsed": true
   },
   "source": [
    "# Run unittest in Jupyter\n",
    "\n",
    "[Modify call to main() to add arguments explicitely, since no cmd line used](https://medium.com/@vladbezden/using-python-unittest-in-ipython-or-jupyter-732448724e31)\n",
    "\n",
    "\n",
    "        argv=['first-arg-is-ignored'], exit=False\n",
    "        \n",
    "        \n",
    "- The reason is that unittest.main looks at sys.argv and first parameter is what started IPython or Jupyter, therefore the error about kernel connection file not being a valid attribute.\n",
    "\n",
    "- Passing explicit list to unittest.main will prevent IPython and Jupyter look at sys.argv.\n",
    "- Passing exit=False will prevent unittest.main to shutdown the kernell process\n",
    "        "
   ]
  },
  {
   "cell_type": "code",
   "execution_count": 2,
   "metadata": {},
   "outputs": [
    {
     "name": "stderr",
     "output_type": "stream",
     "text": [
      "...\n",
      "----------------------------------------------------------------------\n",
      "Ran 3 tests in 0.047s\n",
      "\n",
      "OK\n"
     ]
    }
   ],
   "source": [
    "import unittest\n",
    "\n",
    "class TestStringMethods(unittest.TestCase):\n",
    "\n",
    "    def test_upper(self):\n",
    "        self.assertEqual('foo'.upper(), 'FOO')\n",
    "\n",
    "    def test_isupper(self):\n",
    "        self.assertTrue('FOO'.isupper())\n",
    "        self.assertFalse('Foo'.isupper())\n",
    "\n",
    "    def test_split(self):\n",
    "        s = 'hello world'\n",
    "        self.assertEqual(s.split(), ['hello', 'world'])\n",
    "        # check that s.split fails when the separator is not a string\n",
    "        with self.assertRaises(TypeError):\n",
    "            s.split(2)  \n",
    "    \n",
    "if __name__ == '__main__':\n",
    "    unittest.main(argv=['first-arg-is-ignored'], exit=False)"
   ]
  },
  {
   "cell_type": "code",
   "execution_count": 9,
   "metadata": {},
   "outputs": [
    {
     "data": {
      "text/plain": [
       "1"
      ]
     },
     "execution_count": 9,
     "metadata": {},
     "output_type": "execute_result"
    }
   ],
   "source": [
    "# this command doesn't work in windows\n",
    "#!WHERE firefox.exe\n",
    "\n",
    "# Run executable from Python\n",
    "import os\n",
    "os.system( '\"C:\\\\Program Files (x86)\\\\Mozilla Firefox\\\\firefox.exe\"' )\n"
   ]
  },
  {
   "cell_type": "markdown",
   "metadata": {},
   "source": [
    "# Jupyter Configuration\n",
    "\n",
    "\n",
    "###### See all options\n",
    "\n",
    "    jupyter notebook --help\n",
    "\n",
    "\n",
    "###### Generate config file\n",
    "\n",
    "    jupyter notebook --generate-config\n",
    "\n",
    "\n",
    "###### Set logging level\n",
    "\n",
    "    jupyter notebook --log-level=0\n",
    "\n",
    "    0 = DEBUG\n",
    "    10 = INFO\n",
    "    20 = WARN\n",
    "    30 = ERROR\n",
    "    40 = \n",
    "    50 = CRITICAL\n",
    "\n",
    "\n",
    "###### Change default browser when opening jupyter from command line\n",
    "\n",
    "    jupyter notebook --browser=u'\"C:\\\\Program Files (x86)\\\\Mozilla Firefox\\\\firefox.exe\"' | clip\n",
    "\n",
    "\n",
    "###### Change default browser in config file\n",
    "\n",
    "- https://stackoverflow.com/questions/35229604/how-to-change-the-default-browser-used-by-the-ipython-jupyter-notebook-in-linux\n",
    "\n",
    "\n",
    "# Jupyter Security\n",
    "\n",
    "- [Why are tokens or passwords necessary](https://github.com/jupyter/notebook/issues/2254)\n",
    "\n"
   ]
  },
  {
   "cell_type": "markdown",
   "metadata": {
    "collapsed": true
   },
   "source": [
    "# Show line number in Jupyter Notebook\n",
    "\n",
    "[StackOverflow Show Jupyter Line Number for all cells](https://stackoverflow.com/questions/10979667/showing-line-numbers-in-ipython-jupyter-notebooks)\n",
    "\n",
    "- Command will show jupyter configuration directory\n",
    "\n",
    "        jupyter --config-dir\n",
    "\n",
    "configuration file in json:\n",
    "\n",
    "    {\n",
    "      \"Cell\": {\n",
    "        \"cm_config\": {\n",
    "          \"lineNumbers\": true\n",
    "        }\n",
    "      }, \n",
    "      \"Notebook\": {\n",
    "        \"Header\": true, \n",
    "        \"Toolbar\": true\n",
    "      }\n",
    "    }"
   ]
  },
  {
   "cell_type": "markdown",
   "metadata": {},
   "source": [
    "# Output hyperlink in the Notebook using Python code"
   ]
  },
  {
   "cell_type": "code",
   "execution_count": 19,
   "metadata": {},
   "outputs": [
    {
     "data": {
      "text/html": [
       "<a href=\"https://google.com\">Go to Google.com</a>"
      ],
      "text/plain": [
       "<IPython.core.display.HTML object>"
      ]
     },
     "metadata": {},
     "output_type": "display_data"
    }
   ],
   "source": [
    "from IPython.core.display import display, HTML\n",
    "display(HTML(\"\"\"<a href=\"https://google.com\">Go to Google.com</a>\"\"\"))"
   ]
  },
  {
   "cell_type": "markdown",
   "metadata": {
    "collapsed": true
   },
   "source": [
    "# Jupyter NodeJS\n",
    "\n",
    "https://github.com/notablemind/jupyter-nodejs\n",
    "\n",
    "\n",
    "# IJavaScript\n",
    "\n",
    "https://www.npmjs.com/package/ijavascript\n"
   ]
  },
  {
   "cell_type": "markdown",
   "metadata": {
    "collapsed": true
   },
   "source": [
    "# nbmanager - to view all kernels/servers running and shutdown\n",
    "\n",
    "https://github.com/takluyver/nbmanager\n",
    "\n"
   ]
  },
  {
   "cell_type": "markdown",
   "metadata": {
    "collapsed": true
   },
   "source": [
    "# Advanced Jupyter Notebook Tricks - 1 & 2 & Trump\n",
    "\n",
    "- https://blog.dominodatalab.com/lesser-known-ways-of-using-notebooks/\n",
    "\n",
    "\n",
    "- https://blog.dominodatalab.com/interactive-dashboards-in-jupyter/\n",
    "\n",
    "\n",
    "- https://blog.dominodatalab.com/data-science-just-one-way-donald-trump-different/"
   ]
  },
  {
   "cell_type": "code",
   "execution_count": null,
   "metadata": {
    "collapsed": true
   },
   "outputs": [],
   "source": []
  },
  {
   "cell_type": "code",
   "execution_count": null,
   "metadata": {
    "collapsed": true
   },
   "outputs": [],
   "source": []
  },
  {
   "cell_type": "code",
   "execution_count": null,
   "metadata": {
    "collapsed": true
   },
   "outputs": [],
   "source": []
  },
  {
   "cell_type": "code",
   "execution_count": null,
   "metadata": {
    "collapsed": true
   },
   "outputs": [],
   "source": []
  },
  {
   "cell_type": "code",
   "execution_count": null,
   "metadata": {
    "collapsed": true
   },
   "outputs": [],
   "source": []
  },
  {
   "cell_type": "code",
   "execution_count": null,
   "metadata": {
    "collapsed": true
   },
   "outputs": [],
   "source": []
  },
  {
   "cell_type": "code",
   "execution_count": null,
   "metadata": {
    "collapsed": true
   },
   "outputs": [],
   "source": []
  },
  {
   "cell_type": "code",
   "execution_count": null,
   "metadata": {
    "collapsed": true
   },
   "outputs": [],
   "source": []
  }
 ],
 "metadata": {
  "kernelspec": {
   "display_name": "Python3 Selenium",
   "language": "python",
   "name": "py3env"
  },
  "language_info": {
   "codemirror_mode": {
    "name": "ipython",
    "version": 3
   },
   "file_extension": ".py",
   "mimetype": "text/x-python",
   "name": "python",
   "nbconvert_exporter": "python",
   "pygments_lexer": "ipython3",
   "version": "3.6.1"
  }
 },
 "nbformat": 4,
 "nbformat_minor": 2
}
