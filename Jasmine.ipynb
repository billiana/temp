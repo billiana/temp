{
 "cells": [
  {
   "cell_type": "markdown",
   "metadata": {},
   "source": [
    "# Allure with jasmine\n",
    "\n",
    "https://github.com/allure-framework/allure-jasmine\n",
    "    \n",
    "    \n",
    "# Great Blog with Angular app, Karma and Jasmine examples from scratch\n",
    "\n",
    "https://www.sitepoint.com/angular-2-tutorial/\n",
    "\n",
    "    "
   ]
  },
  {
   "cell_type": "markdown",
   "metadata": {},
   "source": [
    "# Eclipse\n",
    "\n",
    "- Select JavaScript Perspective\n",
    "\n",
    "\n",
    "- Unclutter Projects: https://dzone.com/articles/categorise-projects-package\n",
    "        \n",
    "        "
   ]
  },
  {
   "cell_type": "markdown",
   "metadata": {},
   "source": [
    "# Karma\n",
    "\n",
    "http://karma-runner.github.io/0.10/intro/faq.html\n",
    "\n",
    "\n",
    "###### Can I use Karma to do end to end testing ? \n",
    "- Karma has primarily been designed for low level (unit) testing. If it's an AngularJS app, you can use Karma with karma-ng-scenario plugin, however we recommend Protractor for high level testing. "
   ]
  },
  {
   "cell_type": "markdown",
   "metadata": {},
   "source": [
    "# Jasmine\n",
    "\n",
    "\n",
    "- Simple function test - DONE: https://qxf2.com/blog/javascript-unit-testing-jasmine/\n",
    "\n",
    "\n",
    "- Jasmine Introduction - DONE: https://jasmine.github.io/edge/introduction.html\n",
    "\n",
    "> [have no idea what is 'edge' version](https://github.com/jasmine/jasmine.github.io/tree/master/_api/edge)\n",
    "\n",
    "\n",
    "\n",
    "- Using Jasmine with Node: https://jasmine.github.io/edge/node.html\n",
    "\n",
    "\n",
    "- UnitTest Example - DO IT AT HOME: https://github.com/JesterXL/JavaScript-Jasmine-Unit-Test-Example/tree/master/js\n",
    "\n",
    "\n",
    "- Jasmine Tutorial for Angular2 apps (WORK): http://www.c-sharpcorner.com/article/behavior-driven-development-using-karma-and-jasmine-in-angular-2/"
   ]
  },
  {
   "cell_type": "markdown",
   "metadata": {},
   "source": [
    "\n",
    "- Jasmine Slides, very good: https://www.slideshare.net/cebartling/javascript-38057372\n",
    "\n",
    "\n",
    "###### Jasmine: Sharing variables using this keyword\n",
    "- Each speciﬁcation’s beforeEach/it/afterEach is given an empty object that can be referenced with **this**. \n",
    "\n",
    "        beforeEach(function() { \n",
    "            this.view = new PintailConsulting.ToDoListView();\n",
    "            });\n",
    "\n",
    "        it(“tagName should be set to ‘div’\", function() {\n",
    "            expect(this.view.tagName).toBe(‘div’);\n",
    "            });\n",
    "\n",
    "   "
   ]
  },
  {
   "cell_type": "markdown",
   "metadata": {
    "collapsed": true
   },
   "source": [
    "# Jasmine Framework Tutorials\n",
    "\n",
    "\n",
    "1.\tJasmine Reference - DONE\n",
    "https://jasmine.github.io/edge/introduction.html\n",
    "\n",
    "3.\tQxF2 Jasmine Tutorial - DONE\n",
    "https://qxf2.com/blog/javascript-unit-testing-jasmine/\n",
    "\n",
    "3. Blog with Errors (WORK)\n",
    "https://code.tutsplus.com/tutorials/testing-your-javascript-with-jasmine--net-21229\n",
    "\n",
    "2.\tIntro to Jasmine tutoring blogs\n",
    "\n",
    "> http://www.htmlgoodies.com/beyond/javascript/testing-javascript-using-the-jasmine-framework.html\n",
    "\n",
    "> http://website-development-lasvegas.appspot.com/spy-on-javascript-methods-using-the-jasmine-testing-framework.html\n",
    "\n",
    "> http://www.htmlgoodies.com/html5/javascript/spy-on-javascript-methods-using-the-jasmine-testing-framework.html\n",
    "\n",
    "4.\tJavaScript Tut + Jasmine Tut (at home the best)\n",
    "https://github.com/JesterXL/JavaScript-Jasmine-Unit-Test-Example/tree/master/js\n",
    "\n",
    "5.\tJasmine Tutorial (at work)\n",
    "http://evanhahn.com/how-do-i-jasmine/\n",
    "\n",
    "6.\tProtractor POM (later later, much later)\n",
    "https://stackoverflow.com/questions/45569952/protractor-typescript-pageobject-property-undefined\n",
    "\n",
    "7.\tJasmine Protractor (this and Julie to be the first Tut)\n",
    "http://engineering.wingify.com/posts/e2e-testing-with-webdriverjs-jasmine/\n",
    "\n",
    "Selecting Test Framework\n",
    "\n",
    "8.\tUITests.JS\n",
    "https://github.com/opitzconsulting/uitest.js\n",
    "\n",
    "9.\tJasmine-JQuery\n",
    "https://github.com/velesin/jasmine-jquery\n",
    "\n",
    "10.\tExplore Codecept.js\n",
    "https://survivejs.com/blog/codeceptjs-interview/\n",
    "\n",
    "11.\tKarma vs Protectron\n",
    "https://stackoverflow.com/questions/21732379/should-i-be-using-protractor-or-karma-for-my-end-to-end-testing\n",
    "\n",
    "12. Jasmine Karma in Angular2\n",
    "http://www.c-sharpcorner.com/article/behavior-driven-development-using-karma-and-jasmine-in-angular-2/\n",
    "\n",
    "13. Spy on JavaScript:\n",
    "http://website-development-lasvegas.appspot.com/spy-on-javascript-methods-using-the-jasmine-testing-framework.html\n",
    "\n",
    "BOOK Evan Hahn:\n",
    "http://proquestcombo.safaribooksonline.com.ezproxy.torontopubliclibrary.ca/9781449356729#similar_topics\n",
    "\n",
    "\n",
    "\n",
    "\n",
    "# Ionic App tested with Jasmine and Protractor - step by step\n",
    "\n",
    "- https://gonehybrid.com/how-to-write-automated-tests-for-your-ionic-app-part-1/\n",
    "- https://gonehybrid.com/how-to-write-automated-tests-for-your-ionic-app-part-2/\n",
    "- https://gonehybrid.com/how-to-write-automated-tests-for-your-ionic-app-part-3/\n"
   ]
  },
  {
   "cell_type": "markdown",
   "metadata": {
    "collapsed": true
   },
   "source": [
    "# JavaScript Testing Framework comparison\n",
    "\n",
    "\n",
    "### Intern comparison grid\n",
    "https://theintern.github.io/\n",
    "\n",
    "\n",
    "\n",
    "### Test Cafe (for TypeScript or JavaScript)\n",
    "https://devexpress.github.io/testcafe/\n",
    "\n",
    "\n",
    "\n",
    "### Protractor vs Intern\n",
    "- http://reevoo.github.io/blog/2016/06/08/protractor-vs-intern-js/\n",
    "\n",
    "\n",
    "    \n",
    "    \n",
    "    "
   ]
  },
  {
   "cell_type": "markdown",
   "metadata": {
    "collapsed": true
   },
   "source": [
    "# Callback challange\n",
    "\n",
    "https://stackoverflow.com/questions/44078184/how-to-test-a-callback-on-a-function-angularjs-ionic-jasmine-expected-spy\n",
    "    \n",
    "    \n",
    "    "
   ]
  },
  {
   "cell_type": "markdown",
   "metadata": {
    "collapsed": true
   },
   "source": [
    "# karma vs Jasmine\n",
    "\n",
    "https://stackoverflow.com/questions/26032124/karma-vs-testing-framework-jasmine-mocha-qunit\n",
    "    \n",
    "    "
   ]
  },
  {
   "cell_type": "code",
   "execution_count": null,
   "metadata": {
    "collapsed": true
   },
   "outputs": [],
   "source": []
  },
  {
   "cell_type": "code",
   "execution_count": null,
   "metadata": {
    "collapsed": true
   },
   "outputs": [],
   "source": []
  }
 ],
 "metadata": {
  "kernelspec": {
   "display_name": "Python 3",
   "language": "python",
   "name": "python3"
  },
  "language_info": {
   "codemirror_mode": {
    "name": "ipython",
    "version": 3
   },
   "file_extension": ".py",
   "mimetype": "text/x-python",
   "name": "python",
   "nbconvert_exporter": "python",
   "pygments_lexer": "ipython3",
   "version": "3.6.1"
  }
 },
 "nbformat": 4,
 "nbformat_minor": 2
}
