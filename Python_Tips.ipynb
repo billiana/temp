{
 "cells": [
  {
   "cell_type": "markdown",
   "metadata": {},
   "source": [
    "# IPython table, pandas\n",
    "\n",
    "https://stackoverflow.com/questions/26873127/show-dataframe-as-table-in-ipython-notebook\n",
    "\n"
   ]
  },
  {
   "cell_type": "markdown",
   "metadata": {},
   "source": [
    "# Programming: NullReferenceException\n",
    "\n",
    "- https://stackoverflow.com/questions/4660142/what-is-a-nullreferenceexception-and-how-do-i-fix-it\n",
    "\n",
    "\n",
    "\n",
    "# Memory: Stack vs Heap\n",
    "\n",
    "- https://stackoverflow.com/questions/79923/what-and-where-are-the-stack-and-heap\n"
   ]
  },
  {
   "cell_type": "markdown",
   "metadata": {},
   "source": [
    "# Python IDE\n",
    "\n",
    "[PyCharm](https://www.youtube.com/watch?v=BPC-bGdBSM8)\n",
    "\n",
    "[Good Discussion on best Python IDE](http://pedrokroger.net/choosing-best-python-ide/)"
   ]
  },
  {
   "cell_type": "markdown",
   "metadata": {
    "collapsed": true
   },
   "source": [
    "# Python Tutorials\n",
    "\n",
    "\n",
    "1. [Tutorials point Pandas](https://www.tutorialspoint.com/python_pandas/index.htm)\n",
    "\n",
    "2. [Online Terminals](https://www.tutorialspoint.com/codingground.htm)\n",
    "\n",
    "3. [Screen Scraping HTML table to CSV](https://stackoverflow.com/questions/259091/how-can-i-scrape-an-html-table-to-csv)\n",
    "\n",
    "4. [Python Tutorial with Quizes](https://www.programiz.com/python-programming)\n",
    "\n",
    "5. [Python Sockets Explained](https://pythontips.com/2013/08/06/python-socket-network-programming/)\n",
    "\n",
    "6. [\\*args \\*\\*kwargs](https://pythontips.com/2013/08/04/args-and-kwargs-in-python-explained/)\n",
    "\n",
    "7. [Major Python Libraries](https://pythontips.com/2013/07/30/20-python-libraries-you-cant-live-without/)\n",
    "\n",
    "\n",
    "### row string\n",
    "\n",
    "[string literals](https://docs.python.org/2/reference/lexical_analysis.html#string-literals)\n",
    "\n",
    "[r before string](https://stackoverflow.com/questions/33729045/what-does-an-r-represent-before-a-string-in-python)\n"
   ]
  },
  {
   "cell_type": "markdown",
   "metadata": {},
   "source": [
    "# Python Packaging\n",
    "\n",
    "https://www.programiz.com/python-programming/package\n",
    "\n",
    "\n",
    "\n",
    "# Delete Imported Module\n",
    "\n",
    "https://stackoverflow.com/questions/437589/how-do-i-unload-reload-a-python-module\n",
    "\n",
    "\n"
   ]
  },
  {
   "cell_type": "markdown",
   "metadata": {},
   "source": [
    "# Jupyter Python - output hyperlink"
   ]
  },
  {
   "cell_type": "code",
   "execution_count": 2,
   "metadata": {},
   "outputs": [
    {
     "data": {
      "text/html": [
       "<a href=\"https://google.com\">Go to Google.com</a>"
      ],
      "text/plain": [
       "<IPython.core.display.HTML object>"
      ]
     },
     "metadata": {},
     "output_type": "display_data"
    }
   ],
   "source": [
    "from IPython.core.display import display, HTML\n",
    "display(HTML(\"\"\"<a href=\"https://google.com\">Go to Google.com</a>\"\"\"))\n"
   ]
  },
  {
   "cell_type": "code",
   "execution_count": 1,
   "metadata": {},
   "outputs": [
    {
     "name": "stdout",
     "output_type": "stream",
     "text": [
      "C:\\Users\\bilsto1\\Cookbook\\Tutorials\n"
     ]
    }
   ],
   "source": [
    "#!C:\\Users\\bilsto1\\Anaconda2\\envs\\py3Env\\Scripts\\activate\n",
    "!cd"
   ]
  },
  {
   "cell_type": "markdown",
   "metadata": {},
   "source": [
    "# \\*args & \\*\\*kwargs\n",
    "\n",
    "\n",
    "- pass a variable number of arguments to a function\n",
    "\n",
    "\n",
    "##### \\*args\n",
    "- \\*args is used to send a non-keyworded variable-length argument list to the function\n",
    "\n",
    "\n",
    "##### \\*\\*kwargs\n",
    "\n",
    "- \\*\\*kwargs allows you to pass **keyworded** variable-length of arguments to a function\n",
    "- You should use \\*\\*kwargs if you want to handle named arguments in a function\n",
    "\n",
    "# practice\n",
    "\n",
    "http://thepythonguru.com/python-args-and-kwargs/\n",
    "\n",
    "\n",
    "# Converting list to *args in Python\n",
    "\n",
    "https://stackoverflow.com/questions/3941517/converting-list-to-args-in-python\n",
    "\n",
    "    timeseries_list = [timeseries1 timeseries2 ...]\n",
    "    r = scikits.timeseries.lib.reportlib.Report(*timeseries_list)\n",
    "\n",
    "###### How to make a call\n",
    "\n",
    "https://docs.python.org/2/reference/expressions.html#calls\n",
    "\n"
   ]
  },
  {
   "cell_type": "code",
   "execution_count": 10,
   "metadata": {},
   "outputs": [
    {
     "name": "stdout",
     "output_type": "stream",
     "text": [
      "**************\n",
      "[2, 3, 4]\n",
      "**************\n",
      "2\n",
      "3\n",
      "4\n",
      "**************\n",
      "range(2, 5)\n",
      "**************\n",
      "2\n",
      "3\n",
      "4\n"
     ]
    }
   ],
   "source": [
    "def func(*args):\n",
    "    print(\"**************\")\n",
    "    for item in args:\n",
    "        print(item)\n",
    "\n",
    "func([2,3,4])\n",
    "func(*[2,3,4])\n",
    "func(range(2, 5))\n",
    "func(*range(2, 5))\n",
    "\n",
    "\n",
    "\n"
   ]
  },
  {
   "cell_type": "code",
   "execution_count": 11,
   "metadata": {},
   "outputs": [
    {
     "name": "stdout",
     "output_type": "stream",
     "text": [
      "first normal arg: yasoob\n",
      "another arg through *argv : python\n",
      "another arg through *argv : eggs\n",
      "another arg through *argv : test\n",
      "name == yasoob\n",
      "*FIRST WAY OF UNPACKING*****\n",
      "{'name': 'yasoob', 'lang': 'python'}\n",
      "{'1': 'success', '2': 'fail'}\n",
      "*SECOND WAY OF UNPACKING*****\n",
      "{'name': 'yasoob', 'lang': 'python'}\n",
      "*SECOND WAY OF UNPACKING*****\n",
      "{'1': 'success', '2': 'fail'}\n"
     ]
    }
   ],
   "source": [
    "def test_var_args(f_arg, *argv):\n",
    "    print(\"first normal arg:\", f_arg)\n",
    "    for arg in argv:\n",
    "        print(\"another arg through *argv :\", arg)\n",
    "\n",
    "test_var_args('yasoob','python','eggs','test')\n",
    "\n",
    "\n",
    "\n",
    "def greet_me(**kwargs):\n",
    "    if kwargs is not None:\n",
    "        for key, value in kwargs.items():\n",
    "            print(\"%s == %s\" %(key,value))\n",
    "            \n",
    "greet_me(name=\"yasoob\")\n",
    "\n",
    "\n",
    "\n",
    "def greet_me_2(*args):\n",
    "    if args is not None:\n",
    "        print(\"*FIRST WAY OF UNPACKING*****\")\n",
    "        print(args[0])\n",
    "        print(args[1])\n",
    "        for item in args:\n",
    "            print(\"*SECOND WAY OF UNPACKING*****\")\n",
    "            print(item)            \n",
    "\n",
    "\n",
    "names = {\"name\": \"yasoob\", 'lang':'python'}\n",
    "status = {\"1\": \"success\", '2':'fail'}\n",
    "greet_me_2(names, status)\n"
   ]
  },
  {
   "cell_type": "code",
   "execution_count": 12,
   "metadata": {},
   "outputs": [
    {
     "name": "stdout",
     "output_type": "stream",
     "text": [
      "fargs:  5\n",
      "*******\n",
      "args:  1\n",
      "args:  2\n",
      "args:  3\n",
      "args:  {'name': 'yasoob', 'lang': 'python'}\n",
      "*******\n",
      "*******\n"
     ]
    }
   ],
   "source": [
    "def some_func(fargs,*args,**kwargs):\n",
    "    print(\"fargs: \", fargs)\n",
    "    print(\"*******\")\n",
    "    for item in args:\n",
    "        print(\"args: \", item)\n",
    "    print(\"*******\")\n",
    "    for item in kwargs:\n",
    "        print(\"kwargs: \", item)\n",
    "    print(\"*******\")\n",
    "    \n",
    "    \n",
    "names = {\"name\": \"yasoob\", 'lang':'python'}\n",
    "\n",
    "some_func(5, 1, 2, 3, names)"
   ]
  },
  {
   "cell_type": "markdown",
   "metadata": {
    "collapsed": true
   },
   "source": [
    "# Closure in Python\n",
    "Corey Schafer\n",
    "https://www.youtube.com/watch?v=FsAPt_9Bf3U&t=42s"
   ]
  },
  {
   "cell_type": "code",
   "execution_count": 6,
   "metadata": {},
   "outputs": [
    {
     "name": "stdout",
     "output_type": "stream",
     "text": [
      "Hi\n",
      "Bye\n"
     ]
    }
   ],
   "source": [
    "def outer_f(msg):    \n",
    "    def inner_f():\n",
    "        print(msg)\n",
    "    \n",
    "    return inner_f\n",
    "\n",
    "hi_func = outer_f('Hi')\n",
    "bye_func = outer_f('Bye')\n",
    "\n",
    "hi_func()\n",
    "bye_func()"
   ]
  },
  {
   "cell_type": "markdown",
   "metadata": {},
   "source": [
    "# Decorator Function in Python\n",
    "Corey Schafer\n",
    "https://www.youtube.com/watch?v=FsAPt_9Bf3U&t=42s"
   ]
  },
  {
   "cell_type": "code",
   "execution_count": 10,
   "metadata": {},
   "outputs": [
    {
     "name": "stdout",
     "output_type": "stream",
     "text": [
      "wrapper executed before display_f\n",
      "display function ran\n"
     ]
    }
   ],
   "source": [
    "def decorator_f(original_f):    \n",
    "    def wrapper_f():\n",
    "        print('wrapper executed before {}'.format(original_f.__name__))\n",
    "        return original_f()        \n",
    "    return wrapper_f\n",
    "\n",
    "@decorator_f\n",
    "def display_f():\n",
    "    print(\"display function ran\")\n",
    "    \n",
    "#decorated_display_f = decorator_f(display_f)\n",
    "#decorated_display_f()\n",
    "\n",
    "display_f()\n"
   ]
  },
  {
   "cell_type": "code",
   "execution_count": 11,
   "metadata": {},
   "outputs": [
    {
     "name": "stdout",
     "output_type": "stream",
     "text": [
      "wrapper executed before display_f\n",
      "display function ran\n",
      "wrapper executed before display_info\n",
      "display info ran with arguments (John, 25)\n"
     ]
    }
   ],
   "source": [
    "def decorator_f(original_f):    \n",
    "    def wrapper_f(*args, **kwargs):\n",
    "        print('wrapper executed before {}'.format(original_f.__name__))\n",
    "        return original_f(*args, **kwargs)        \n",
    "    return wrapper_f\n",
    "\n",
    "@decorator_f\n",
    "def display_f():\n",
    "    print(\"display function ran\")\n",
    "    \n",
    "@decorator_f    \n",
    "def display_info(name, age):\n",
    "    print(\"display info ran with arguments ({}, {})\".format(name, age))\n",
    "\n",
    "display_f()\n",
    "display_info(\"John\", 25)\n"
   ]
  },
  {
   "cell_type": "markdown",
   "metadata": {},
   "source": [
    "# Decorator Class in Python\n",
    "Corey Schafer\n",
    "https://www.youtube.com/watch?v=FsAPt_9Bf3U&t=42s"
   ]
  },
  {
   "cell_type": "code",
   "execution_count": 14,
   "metadata": {},
   "outputs": [
    {
     "name": "stdout",
     "output_type": "stream",
     "text": [
      "call method executed before display_f\n",
      "display function ran\n",
      "call method executed before display_info\n",
      "display info ran with arguments (John, 25)\n"
     ]
    }
   ],
   "source": [
    "class decorator_class(object):\n",
    "    def __init__(self, original_f):\n",
    "        self.original_f = original_f        \n",
    "        \n",
    "    def __call__(self, *args, **kwargs):\n",
    "        print('call method executed before {}'.format(self.original_f.__name__))\n",
    "        return self.original_f(*args, **kwargs)        \n",
    "    \n",
    "@decorator_class\n",
    "def display_f():\n",
    "    print(\"display function ran\")\n",
    "    \n",
    "@decorator_class    \n",
    "def display_info(name, age):\n",
    "    print(\"display info ran with arguments ({}, {})\".format(name, age))\n",
    "\n",
    "display_f()\n",
    "display_info(\"John\", 25)\n"
   ]
  },
  {
   "cell_type": "code",
   "execution_count": null,
   "metadata": {
    "collapsed": true
   },
   "outputs": [],
   "source": []
  },
  {
   "cell_type": "code",
   "execution_count": null,
   "metadata": {
    "collapsed": true
   },
   "outputs": [],
   "source": []
  },
  {
   "cell_type": "code",
   "execution_count": null,
   "metadata": {
    "collapsed": true
   },
   "outputs": [],
   "source": []
  },
  {
   "cell_type": "code",
   "execution_count": null,
   "metadata": {
    "collapsed": true
   },
   "outputs": [],
   "source": []
  },
  {
   "cell_type": "markdown",
   "metadata": {
    "collapsed": true
   },
   "source": [
    "\n",
    "\n",
    "# Guido Answer - not to lose self\n",
    "\n",
    "http://neopythonic.blogspot.ca/2008/10/why-explicit-self-has-to-stay.html\n",
    "    \n",
    "    "
   ]
  },
  {
   "cell_type": "markdown",
   "metadata": {
    "collapsed": true
   },
   "source": [
    "# Call a Python script with arguments from another script\n",
    "\n",
    "https://stackoverflow.com/questions/1186789/what-is-the-best-way-to-call-a-python-script-from-another-python-script\n",
    "\n",
    "\n",
    "    import os\n",
    "    os.system(\"python myOtherScript.py arg1 arg2 arg3\")  \n",
    "        \n",
    "    # our example is executing dummy3 that is calling dummy2\n",
    "    os.system('python dummy2.py a b c')\n",
    " "
   ]
  },
  {
   "cell_type": "code",
   "execution_count": 2,
   "metadata": {
    "collapsed": true
   },
   "outputs": [],
   "source": [
    "!python dummy3.py"
   ]
  },
  {
   "cell_type": "code",
   "execution_count": 3,
   "metadata": {
    "collapsed": true
   },
   "outputs": [],
   "source": [
    "import dummy3"
   ]
  },
  {
   "cell_type": "code",
   "execution_count": 4,
   "metadata": {
    "collapsed": true
   },
   "outputs": [],
   "source": [
    "!python dummy1.py"
   ]
  },
  {
   "cell_type": "code",
   "execution_count": 5,
   "metadata": {
    "collapsed": true
   },
   "outputs": [],
   "source": [
    "!python dummy2.py 1 2 3"
   ]
  },
  {
   "cell_type": "code",
   "execution_count": null,
   "metadata": {
    "collapsed": true
   },
   "outputs": [],
   "source": []
  }
 ],
 "metadata": {
  "kernelspec": {
   "display_name": "Python 3",
   "language": "python",
   "name": "python3"
  },
  "language_info": {
   "codemirror_mode": {
    "name": "ipython",
    "version": 3
   },
   "file_extension": ".py",
   "mimetype": "text/x-python",
   "name": "python",
   "nbconvert_exporter": "python",
   "pygments_lexer": "ipython3",
   "version": "3.6.1"
  }
 },
 "nbformat": 4,
 "nbformat_minor": 2
}
