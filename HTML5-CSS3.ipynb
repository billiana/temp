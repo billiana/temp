{
 "cells": [
  {
   "cell_type": "markdown",
   "metadata": {},
   "source": [
    "# Adding link to css file in HTML\n",
    "\n",
    "    <head>\n",
    "       <link rel=\"stylesheet\" type=\"text/css\" href=\"theme.css\">\n",
    "    </head> \n",
    "\n",
    "\n",
    "# Adding css style to HTML\n",
    "\n",
    "    <style>\n",
    "     h1 {color:red;}\n",
    "     p {color:blue;}\n",
    "    </style>"
   ]
  },
  {
   "cell_type": "markdown",
   "metadata": {},
   "source": [
    "# CSS3 with Selenium\n",
    "http://pragmatictestlabs.com/2016/09/30/mastering-css-for-selenium-test-automation/\n",
    "\n",
    "\n",
    "# Responsive CSS with Selenium\n",
    "https://stackoverflow.com/questions/10604606/is-there-a-way-to-test-responsive-css-with-selenium\n",
    "\n",
    "\n",
    "# CSS3 Selectors\n",
    "https://www.w3.org/TR/css3-selectors/\n"
   ]
  },
  {
   "cell_type": "markdown",
   "metadata": {
    "collapsed": true
   },
   "source": [
    "# Nice list of all HTML TAGS\n",
    "https://www.quackit.com/html_5/tags/"
   ]
  },
  {
   "cell_type": "markdown",
   "metadata": {
    "collapsed": true
   },
   "source": [
    "# Validate HTML5\n",
    "https://validator.nu/\n",
    "    "
   ]
  },
  {
   "cell_type": "markdown",
   "metadata": {
    "collapsed": true
   },
   "source": [
    "# XML Beautifier\n",
    "\n",
    "http://xmlbeautifier.com/\n",
    "    "
   ]
  },
  {
   "cell_type": "markdown",
   "metadata": {
    "collapsed": true
   },
   "source": [
    "# Dynamic vs Static Web\n",
    "\n",
    "\n",
    "###### - Static Web: HTML, CSS, Javascript - no serverside programming \n",
    "\n",
    "###### - Dynamic Web: PHP, Ruby, Python, Java, .NET, ...  modify page contents in run time \n",
    "\n",
    "https://www.quora.com/What-is-the-difference-between-Static-Websites-and-Dynamic-Websites\n",
    "\n"
   ]
  },
  {
   "cell_type": "markdown",
   "metadata": {
    "collapsed": true
   },
   "source": [
    "| This | is   |\n",
    "|------|------|\n",
    "|   a  | table|"
   ]
  },
  {
   "cell_type": "markdown",
   "metadata": {
    "collapsed": true
   },
   "source": [
    "# How Browser Works\n",
    "\n",
    "https://www.html5rocks.com/en/tutorials/internals/howbrowserswork/\n",
    "\n"
   ]
  },
  {
   "cell_type": "markdown",
   "metadata": {
    "collapsed": true
   },
   "source": [
    "# JavaScript Resources\n",
    "\n",
    "- Brad Schiff,  he's also on youTube: https://github.com/LearnWebCode"
   ]
  },
  {
   "cell_type": "markdown",
   "metadata": {
    "collapsed": true
   },
   "source": [
    "# Run JavaScript code in the browser, so many wys [TBD]\n",
    "\n",
    "###### where to [TBD]\n",
    "https://www.w3schools.com/js/js_whereto.asp\n",
    "\n",
    "\n",
    "###### output [TBD]\n",
    "https://www.w3schools.com/js/js_output.asp\n",
    "\n",
    "\n",
    "###### even more creative ways [TBD]\n",
    "https://stackoverflow.com/questions/24032058/use-a-button-to-call-a-javascript-file-in-html\n",
    "\n"
   ]
  },
  {
   "cell_type": "markdown",
   "metadata": {
    "collapsed": true
   },
   "source": [
    "# DOM\n",
    "\n",
    "https://www.codementor.io/ashish1dev/list-of-useful-nodejs-modules-du107mcv3\n",
    "\n",
    "\n",
    "    > var lista = document.querySelectorAll(\".article__content\")[0].querySelectorAll(\"a\");\n",
    "    > var lista2 = [];\n",
    "    > for (item of lista) {lista2.push(item.text);}\n",
    "    > lista2.shift();\n",
    "    "
   ]
  },
  {
   "cell_type": "markdown",
   "metadata": {
    "collapsed": true
   },
   "source": [
    "# DOM JavaScript Study Material - Great Reference\n",
    "\n",
    "- [Developing with Web Standards - John Allsopp](http://proquestcombo.safaribooksonline.com.ezproxy.torontopubliclibrary.ca/book/web-development/9780321647559/before-you-begin/ch01lev1sec1?reader=pf&readerfullscreen=&readerleftmenu=1)\n",
    "    \n",
    "    "
   ]
  },
  {
   "cell_type": "markdown",
   "metadata": {
    "collapsed": true
   },
   "source": [
    "# CSS Selector in Selenium\n",
    "\n",
    "- http://www.seleniumeasy.com/selenium-tutorials/css-selectors-tutorial-for-selenium-with-examples"
   ]
  },
  {
   "cell_type": "code",
   "execution_count": null,
   "metadata": {
    "collapsed": true
   },
   "outputs": [],
   "source": []
  },
  {
   "cell_type": "code",
   "execution_count": null,
   "metadata": {
    "collapsed": true
   },
   "outputs": [],
   "source": []
  },
  {
   "cell_type": "code",
   "execution_count": null,
   "metadata": {
    "collapsed": true
   },
   "outputs": [],
   "source": []
  }
 ],
 "metadata": {
  "kernelspec": {
   "display_name": "Python 3",
   "language": "python",
   "name": "python3"
  },
  "language_info": {
   "codemirror_mode": {
    "name": "ipython",
    "version": 3
   },
   "file_extension": ".py",
   "mimetype": "text/x-python",
   "name": "python",
   "nbconvert_exporter": "python",
   "pygments_lexer": "ipython3",
   "version": "3.6.1"
  }
 },
 "nbformat": 4,
 "nbformat_minor": 2
}
