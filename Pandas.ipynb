{
 "cells": [
  {
   "cell_type": "markdown",
   "metadata": {},
   "source": [
    "# Intro to Data Structures\n",
    "\n",
    "https://pandas.pydata.org/pandas-docs/stable/dsintro.html\n",
    "\n",
    "\n",
    "# Tutorial Pandas and Open Courses on Datacamp\n",
    "\n",
    "https://www.datacamp.com/community/open-courses\n",
    "\n",
    "\n",
    "### PYTHON\n",
    "\n",
    "0. https://campus.datacamp.com/courses/intro-to-python-for-data-science/chapter-4-numpy?ex=7\n",
    "\n",
    "1. https://www.datacamp.com/community/open-courses/tidy-data-in-python-mini-course\n",
    "\n",
    "2. https://www.datacamp.com/community/open-courses/intro-to-dataworld-in-python\n",
    "\n",
    "3. https://www.datacamp.com/community/open-courses/kaggle-python-tutorial-on-machine-learning\n",
    "\n",
    "4. https://www.datacamp.com/community/open-courses/introduction-to-python-machine-learning-with-analytics-vidhya-hackathons\n",
    "\n",
    "\n",
    "\n",
    "\n",
    "### R\n",
    "\n",
    "\n",
    "1. https://www.datacamp.com/community/open-courses/statistical-inference-and-data-analysis\n",
    "\n",
    "\n",
    "\n",
    "\n",
    "https://www.datacamp.com/community/tutorials/pandas-multi-index\n",
    "\n",
    "\n",
    "\n"
   ]
  },
  {
   "cell_type": "code",
   "execution_count": 1,
   "metadata": {
    "collapsed": true
   },
   "outputs": [],
   "source": [
    "import numpy as np\n",
    "import pandas as pd\n"
   ]
  },
  {
   "cell_type": "markdown",
   "metadata": {},
   "source": [
    "# Series is a one-dimensional labeled array\n",
    "\n",
    "- The axis labels are collectively referred to as the index.\n",
    "\n",
    "\n",
    "### Create Series\n",
    "\n",
    "    s = pd.Series(data, index=index)\n",
    "\n",
    "Data:\n",
    "- Python dict\n",
    "- ndarray\n",
    "- scalar value\n",
    "\n",
    "Index:\n",
    "- list of axis labels\n",
    "\n",
    "\n",
    "\n",
    "### Data come from ndarray\n",
    "\n",
    "\n",
    "- If data is an ndarray, index must be the same length as data.\n",
    "- If no index is passed, one will be created having values [0, ..., len(data) - 1].\n",
    "\n",
    "\n",
    "\n",
    "\n",
    "In [3]: s = pd.Series(np.random.randn(5), index=['a', 'b', 'c', 'd', 'e'])\n",
    "\n",
    "In [4]: s\n",
    "Out[4]: \n",
    "a    0.2941\n",
    "b    0.2869\n",
    "c    1.7098\n",
    "d   -0.2126\n",
    "e    0.2696\n",
    "dtype: float64\n",
    "\n",
    "In [5]: s.index\n",
    "Out[5]: Index(['a', 'b', 'c', 'd', 'e'], dtype='object')\n",
    "\n",
    "In [6]: pd.Series(np.random.randn(5))\n",
    "Out[6]: \n",
    "0   -0.4531\n",
    "1   -1.8215\n",
    "2   -0.1263\n",
    "3   -0.1533\n",
    "4    0.4055\n",
    "dtype: float64\n",
    "\n",
    "\n",
    "Note:\n",
    " Starting in v0.8.0, pandas supports non-unique index values. If an operation that does not support duplicate index values is attempted, an exception will be raised at that time. The reason for being lazy is nearly all performance-based (there are many instances in computations, like parts of GroupBy, where the index is not used).\n",
    " "
   ]
  },
  {
   "cell_type": "code",
   "execution_count": null,
   "metadata": {
    "collapsed": true
   },
   "outputs": [],
   "source": [
    "s = pd.Series(data, index=index)"
   ]
  }
 ],
 "metadata": {
  "kernelspec": {
   "display_name": "Python 3",
   "language": "python",
   "name": "python3"
  },
  "language_info": {
   "codemirror_mode": {
    "name": "ipython",
    "version": 3
   },
   "file_extension": ".py",
   "mimetype": "text/x-python",
   "name": "python",
   "nbconvert_exporter": "python",
   "pygments_lexer": "ipython3",
   "version": "3.6.1"
  }
 },
 "nbformat": 4,
 "nbformat_minor": 2
}
