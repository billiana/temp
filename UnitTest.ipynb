{
 "cells": [
  {
   "cell_type": "markdown",
   "metadata": {},
   "source": [
    "# Amazing Python Guide - The Hitchhiker’s Guide to Python!!\n",
    "\n",
    "\n",
    "[Online Guide](http://docs.python-guide.org/en/latest/)\n",
    "\n",
    "\n",
    "\n",
    "\n",
    "- [GitHub guide](https://github.com/kennethreitz/python-guide/tree/885185a5a05a7536be8b8c6e6a8ead92bb594f4a/docs/writing)\n",
    "\n",
    "- [Structure your project](https://github.com/kennethreitz/python-guide/blob/885185a5a05a7536be8b8c6e6a8ead92bb594f4a/docs/writing/structure.rst)\n",
    "\n",
    "- [Code Style](https://github.com/kennethreitz/python-guide/blob/885185a5a05a7536be8b8c6e6a8ead92bb594f4a/docs/writing/style.rst)\n",
    "\n",
    "- [Reading Great Code](https://github.com/kennethreitz/python-guide/blob/885185a5a05a7536be8b8c6e6a8ead92bb594f4a/docs/writing/reading.rst)    \n",
    "\n",
    "- [Gotchas](https://github.com/kennethreitz/python-guide/blob/885185a5a05a7536be8b8c6e6a8ead92bb594f4a/docs/writing/gotchas.rst)\n",
    "\n",
    "- [Logging](https://github.com/kennethreitz/python-guide/blob/885185a5a05a7536be8b8c6e6a8ead92bb594f4a/docs/writing/logging.rst)"
   ]
  },
  {
   "cell_type": "markdown",
   "metadata": {},
   "source": [
    "# Testing Your Code\n",
    "\n",
    "[Testing](https://github.com/kennethreitz/python-guide/blob/master/docs/writing/tests.rst)\n",
    "\n",
    "\n",
    "- Use long and descriptive names for testing functions. The style guide here is slightly different than that of running code, where short names are often preferred. The reason is testing functions are never called explicitly.  square()  or even  sqr()  is ok in running code, but in testing code you would have names such as  test_square_of_number_2() ,  test_square_negative_number() . These function names are displayed when a test fails, and should be as descriptive as possible.\n",
    "\n",
    "\n",
    "- Each test unit must be fully independent. Each test must be able to run alone, and also within the test suite, regardless of the order that they are called. The implication of this rule is that each test must be loaded with a fresh dataset and may have to do some cleanup afterwards. This is usually handled by :meth:`setUp()` and :meth:`tearDown()` methods\n",
    "\n"
   ]
  },
  {
   "cell_type": "markdown",
   "metadata": {},
   "source": [
    "# Python unittest Test Discovery\n",
    "\n",
    "https://docs.python.org/3/library/unittest.html#unittest-test-discovery\n",
    "\n"
   ]
  },
  {
   "cell_type": "markdown",
   "metadata": {},
   "source": [
    "#  How UnitTest Works: main = TestProgram\n",
    "\n",
    "https://stackoverflow.com/questions/20992731/meaning-of-unittest-main-in-python-unittest-module\n",
    "\n",
    "\n",
    "\n",
    "- when you execute unittest.main(), an object of TestProgram gets created which calls self.runTests() at line 768.\n",
    "\n",
    "\n",
    "- The constructor also takes your current file as the default module containing the tests ( module='__main__'). \n",
    "\n",
    "\n",
    "- When runTests() is called, it in turn calls self.testrunner.run().\n",
    "\n",
    "\n",
    "- When you refer to the \"run\" method of TextTestRunner class, you will find that it actually runs and reports all your test results. \n",
    "\n",
    "\n",
    "- Test discovery is done by TestProgram.parseArgs at line 775 when you call unittest.main().\n",
    "\n",
    "\n",
    "- self.createTests at line 798 is actually responsible for discovering all your test cases and creating a test suite. This is all the magic.\n",
    "\n",
    "\n",
    "- Hangling further down you will find the loop which is used to find all test cases in loader.py in the methods loadTestsFromModule() and loadTestsFromName().\n",
    "\n",
    "\n",
    "- It iterates over all elements in a module and applies a check issubclass(obj, case.TestCase) to find the test cases.\n"
   ]
  },
  {
   "cell_type": "markdown",
   "metadata": {},
   "source": [
    "# Python Guide - Testing your code\n",
    "\n",
    "\n",
    "http://python-guide-pt-br.readthedocs.io/en/latest/writing/tests/\n",
    "    \n",
    "    "
   ]
  },
  {
   "cell_type": "markdown",
   "metadata": {},
   "source": [
    "# Parameterized Python test framework\n",
    "\n",
    "https://github.com/wolever/parameterized\n",
    "\n"
   ]
  },
  {
   "cell_type": "markdown",
   "metadata": {},
   "source": [
    "# Running unittest in Jupyter\n",
    "\n",
    "\n",
    "[SO Run UnitTest in Jupyter](https://stackoverflow.com/questions/37895781/unable-to-run-unittests-main-function-in-ipython-jupyter-notebook)\n",
    "\n",
    "\n",
    "- unittest.main looks at sys.argv by default, which is what started IPython, hence the error about the kernel connection file not being a valid attribute. You can pass an explicit list to main to avoid looking up sys.argv.\n",
    "\n",
    "- In the notebook, you will also want to include **exit=False** to prevent unittest.main from trying to shutdown the kernel process:\n",
    "\n",
    "        unittest.main(argv=['first-arg-is-ignored'], exit=False)\n",
    "\n",
    "- You can pass further arguments in the argv list, e.g.\n",
    "\n",
    "        unittest.main(argv=['ignored', '-v'], exit=False)\n",
    "  "
   ]
  },
  {
   "cell_type": "code",
   "execution_count": 1,
   "metadata": {
    "collapsed": true
   },
   "outputs": [],
   "source": [
    "import unittest\n",
    "\n",
    "def fun(x):\n",
    "    return x + 1\n",
    "\n",
    "class MyTest(unittest.TestCase):\n",
    "    def test(self):\n",
    "        self.assertEqual(fun(3), 4)"
   ]
  },
  {
   "cell_type": "markdown",
   "metadata": {},
   "source": [
    "# 14 different slides on COMPLEX UNIT TESTING\n",
    "\n",
    "http://starship.python.net/crew/tbryan/UnitTestTalk/slide12.html"
   ]
  },
  {
   "cell_type": "markdown",
   "metadata": {},
   "source": [
    "from mx.DateTime import DateTime\n",
    "\n",
    "import unittest\n",
    "\n",
    "import DateRange\n",
    "\n",
    "class TestDateRange(unittest.TestCase):\n",
    "\n",
    "    def test_creation_basic( self ):\n",
    "        A = DateTime( 2002, 1, 1 )\n",
    "        B = DateTime( 2002, 2, 1 ) \n",
    "        range = DateRange.DateRange( A, B )\n",
    "        self.assertEquals( range.start, A )\n",
    "        self.assertEquals( range.end, B )\n",
    "\n",
    "if __name__ == '__main__':\n",
    "    unittest.main()\n"
   ]
  },
  {
   "cell_type": "code",
   "execution_count": null,
   "metadata": {
    "collapsed": true
   },
   "outputs": [],
   "source": []
  }
 ],
 "metadata": {
  "kernelspec": {
   "display_name": "Python3 Selenium",
   "language": "python",
   "name": "py3env"
  },
  "language_info": {
   "codemirror_mode": {
    "name": "ipython",
    "version": 3
   },
   "file_extension": ".py",
   "mimetype": "text/x-python",
   "name": "python",
   "nbconvert_exporter": "python",
   "pygments_lexer": "ipython3",
   "version": "3.6.1"
  }
 },
 "nbformat": 4,
 "nbformat_minor": 2
}
